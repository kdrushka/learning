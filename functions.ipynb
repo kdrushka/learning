{
 "cells": [
  {
   "cell_type": "markdown",
   "metadata": {},
   "source": [
    "# Functions"
   ]
  },
  {
   "cell_type": "markdown",
   "metadata": {},
   "source": [
    "The initial stages of learning an interpreted language like Python normally involve entering statements on a command line and immediately executing them to see the result.  In Jupyter notebooks, one can enter several lines and execute them all at once.  Similarly, the lowest level of programming involves writing a moderate number of lines of code in a file, which the Python interpreter then executes from a system command line.  This is useful for simple tasks like reformatting text files, but it doesn't go far beyond that.\n",
    "\n",
    "Fortunately, programming power can be increased exponentially by writing functions.  In this notebook we will illustrate the basics of functions with very simple examples chosen for pedagogical value, not as examples of functions you would be likely to write and use.  The emphasis here is on showing how one gets information into, and out of, a function, not on the sorts of code one is likely to find in real functions."
   ]
  },
  {
   "cell_type": "markdown",
   "metadata": {},
   "source": [
    "## The simplest case: no arguments (i.e., no inputs), nothing returned"
   ]
  },
  {
   "cell_type": "code",
   "execution_count": 1,
   "metadata": {},
   "outputs": [],
   "source": [
    "def simple_message():\n",
    "    print(\"This is the simplest function that does something.\")"
   ]
  },
  {
   "cell_type": "markdown",
   "metadata": {},
   "source": [
    "Notice how we defined a function by starting with `def`, followed by the name of the function, followed by parentheses, followed by a colon, followed by an indented block of code.  Every one of these elements is needed.\n",
    "\n",
    "Notice also that this definition is just that: a definition.  After it is executed there is a new Python object in our namespace, `simple_message`, but it has not been executed yet.  Let's execute it:"
   ]
  },
  {
   "cell_type": "code",
   "execution_count": 2,
   "metadata": {},
   "outputs": [
    {
     "name": "stdout",
     "output_type": "stream",
     "text": [
      "This is the simplest function that does something.\n"
     ]
    }
   ],
   "source": [
    "simple_message()"
   ]
  },
  {
   "cell_type": "markdown",
   "metadata": {},
   "source": [
    "No surprise.  Just remember that the parentheses are needed when *executing* the function as well as when *defining* it."
   ]
  },
  {
   "cell_type": "markdown",
   "metadata": {},
   "source": [
    "## One mandatory argument"
   ]
  },
  {
   "cell_type": "code",
   "execution_count": 4,
   "metadata": {},
   "outputs": [
    {
     "name": "stdout",
     "output_type": "stream",
     "text": [
      "USING UPPER CASE CAN SEEM LIKE SHOUTING\n",
      "TEST\n"
     ]
    }
   ],
   "source": [
    "def print_uppercase_version(some_text):\n",
    "    print(some_text.upper())\n",
    "    \n",
    "print_uppercase_version(\"using upper case can seem like shouting\")\n",
    "\n",
    "print_uppercase_version(\"test\")"
   ]
  },
  {
   "cell_type": "markdown",
   "metadata": {},
   "source": [
    "Here we defined a function that takes a single mandatory argument, a text string.  It calls the `upper` method of that string, which returns an uppercase version of it, and then it prints the result.  (Remember, a method is just a function that knows how to operate on the object to the left of the dot.  You can see it is a function because of the parentheses.)"
   ]
  },
  {
   "cell_type": "markdown",
   "metadata": {},
   "source": [
    "## More mandatory (positional) arguments"
   ]
  },
  {
   "cell_type": "markdown",
   "metadata": {},
   "source": [
    "A function can be defined with any number of positional arguments:"
   ]
  },
  {
   "cell_type": "code",
   "execution_count": 6,
   "metadata": {},
   "outputs": [
    {
     "name": "stdout",
     "output_type": "stream",
     "text": [
      "REPEAT\n",
      "REPEAT\n"
     ]
    }
   ],
   "source": [
    "def print_more_uppercase(some_text, n):\n",
    "    for i in range(n):\n",
    "        print(some_text.upper())\n",
    "        \n",
    "print_more_uppercase(\"repeat\", 2)      \n",
    "\n",
    "\n",
    "print_more_uppercase(\"test\", 0)       "
   ]
  },
  {
   "cell_type": "markdown",
   "metadata": {},
   "source": [
    "## Variable number of arguments"
   ]
  },
  {
   "cell_type": "markdown",
   "metadata": {},
   "source": [
    "Now things get more interesting; we can define a function that takes some fixed number of positional arguments (one, in this example) and any number of additional positional arguments:"
   ]
  },
  {
   "cell_type": "code",
   "execution_count": 19,
   "metadata": {},
   "outputs": [
    {
     "name": "stdout",
     "output_type": "stream",
     "text": [
      "Only one:\n",
      "additional argument #0 is just this\n",
      "[10 15 20 25 30 35 40 45]\n",
      "test\n",
      "additional argument #0 is a\n",
      "additional argument #1 is b\n",
      "additional argument #2 is 45\n",
      "additional argument #3 is ['January', 'February', 'March', 'April', 'May']\n",
      "additional argument #4 is [10 15 20 25 30 35 40 45]\n"
     ]
    }
   ],
   "source": [
    "def show_variable_arguments(intro, *args):\n",
    "    print(intro)\n",
    "    #  The built-in enumerate() function is explained below.\n",
    "    for i, a in enumerate(args):\n",
    "        print(\"additional argument #%d is %s\" % (i, a))\n",
    "        \n",
    "show_variable_arguments(\"Only one:\", \"just this\")\n",
    "\n",
    "import numpy as np\n",
    "d=np.arange(10,50,5)\n",
    "print(d)\n",
    "show_variable_arguments(\"test\", \"a\",\"b\",45,[\"January\", \"February\", \"March\", \"April\", \"May\"],d)"
   ]
  },
  {
   "cell_type": "code",
   "execution_count": 24,
   "metadata": {},
   "outputs": [
    {
     "name": "stdout",
     "output_type": "stream",
     "text": [
      "Three this time:\n",
      "additional argument #0 is first\n",
      "additional argument #1 is second\n",
      "additional argument #2 is third\n"
     ]
    }
   ],
   "source": [
    "show_variable_arguments(\"Three this time:\", \"first\", \"second\", \"third\")\n",
    "\n"
   ]
  },
  {
   "cell_type": "markdown",
   "metadata": {},
   "source": [
    "Notice the `*args` construct: it means, \"take all additional arguments, pack them in a tuple, and make it available inside the function under the name 'args'\".  If there are no additional arguments the tuple will be empty.  If present, the `*args` construct must follow any mandatory arguments.\n",
    "\n",
    "We introduced the built-in function `enumerate()`; it is often used in loops like this, when one needs both an item and its index. It is an *iterator*.  Each time through the loop, it returns a tuple containing the count, starting from zero, and the corresponding item in its argument.  We are automatically unpacking the tuple into the variables `i` and `a`."
   ]
  },
  {
   "cell_type": "code",
   "execution_count": 27,
   "metadata": {},
   "outputs": [
    {
     "name": "stdout",
     "output_type": "stream",
     "text": [
      "index is 0 and the element is dog\n",
      "index is 1 and the element is cat\n",
      "index is 2 and the element is bird\n",
      "0\n",
      "8\n",
      "14\n",
      "18\n"
     ]
    }
   ],
   "source": [
    "for i, a in enumerate(['dog', 'cat', 'bird']):\n",
    "    print(\"index is\", i, \"and the element is\", a)\n",
    "    \n",
    "    \n",
    "for a,b in enumerate([9,8,7,6]):\n",
    "    print(a*b)"
   ]
  },
  {
   "cell_type": "markdown",
   "metadata": {},
   "source": [
    "## Keyword arguments"
   ]
  },
  {
   "cell_type": "markdown",
   "metadata": {},
   "source": [
    "Even with the ability to have a variable number of arguments via `*args`, positional arguments can get clumsy to handle and hard to remember as the potential inputs to a function get more complex.  Here is an illustration of the solution:"
   ]
  },
  {
   "cell_type": "code",
   "execution_count": 32,
   "metadata": {},
   "outputs": [
    {
     "name": "stdout",
     "output_type": "stream",
     "text": [
      "THIS IS A SENTENCE\n",
      "THIS IS A SENTENCE\n",
      "THIS IS A SENTENCE\n"
     ]
    }
   ],
   "source": [
    "def print_style(some_text, n=1, format='sentence'):\n",
    "    if format == 'sentence':\n",
    "        text = some_text.capitalize() + \".\"\n",
    "    elif format == 'shout':\n",
    "        text = some_text.upper()\n",
    "    elif format == 'plain':\n",
    "        text = some_text\n",
    "    else:\n",
    "        print(\"format keyword argument must be 'sentence, 'shout', or 'plain'\")\n",
    "        return\n",
    "    for i in range(n):\n",
    "        print(text)\n",
    "        \n",
    "print_style(\"this is a sentence\", n=3,format='shout')"
   ]
  },
  {
   "cell_type": "code",
   "execution_count": 33,
   "metadata": {},
   "outputs": [
    {
     "name": "stdout",
     "output_type": "stream",
     "text": [
      "A BIT LOUD\n",
      "A BIT LOUD\n",
      "A BIT LOUD\n",
      "A BIT LOUD\n"
     ]
    }
   ],
   "source": [
    "print_style(\"a bit loud\", format='shout',n=4)"
   ]
  },
  {
   "cell_type": "code",
   "execution_count": 10,
   "metadata": {},
   "outputs": [
    {
     "name": "stdout",
     "output_type": "stream",
     "text": [
      "unchanged and only once\n"
     ]
    }
   ],
   "source": [
    "print_style(\"unchanged and only once\", format='plain')"
   ]
  },
  {
   "cell_type": "code",
   "execution_count": 11,
   "metadata": {},
   "outputs": [
    {
     "name": "stdout",
     "output_type": "stream",
     "text": [
      "unchanged but 3 times\n",
      "unchanged but 3 times\n",
      "unchanged but 3 times\n"
     ]
    }
   ],
   "source": [
    "print_style(\"unchanged but 3 times\", format='plain', n=3)"
   ]
  },
  {
   "cell_type": "code",
   "execution_count": 12,
   "metadata": {},
   "outputs": [
    {
     "name": "stdout",
     "output_type": "stream",
     "text": [
      "format keyword argument must be 'sentence, 'shout', or 'plain'\n"
     ]
    }
   ],
   "source": [
    "print_style(\"invalid keyword argument...\", format='loopy')"
   ]
  },
  {
   "cell_type": "markdown",
   "metadata": {},
   "source": [
    "There are several things to notice:\n",
    "\n",
    "- The second and third arguments in the definition are *keyword* arguments, in which the name is followed by an equals sign and a default value.\n",
    "- These are *optional* arguments, and when the function is called, these arguments do not have to be specified in any particular order, or at all.\n",
    "- The keyword arguments must *follow* all positional arguments, of which there is only one in this example.\n",
    "- In addition to making it possible to have optional arguments with default values, keyword arguments can make the code more readable when the function is called.\n",
    "\n",
    "Notice the `return` statement, to end execution after printing the error message.  Of course, `return` can do more, as we now show."
   ]
  },
  {
   "cell_type": "markdown",
   "metadata": {},
   "source": [
    "## Returning output"
   ]
  },
  {
   "cell_type": "markdown",
   "metadata": {},
   "source": [
    "We are going to use a tiny bit of numpy now, so that we can operate on a sequence of numbers all at once."
   ]
  },
  {
   "cell_type": "code",
   "execution_count": 109,
   "metadata": {},
   "outputs": [
    {
     "name": "stdout",
     "output_type": "stream",
     "text": [
      "[0.31882112 0.08733219 0.08733219 0.31882112]\n",
      "0.7080734182735712 0.7080734182735712\n",
      "0.9195357645382262\n"
     ]
    }
   ],
   "source": [
    "import numpy as np\n",
    "\n",
    "def sinsq(x):\n",
    "    return np.sin(x) ** 2\n",
    "\n",
    "print(sinsq([-0.6, -0.3, 0.3, 0.6]))\n",
    "\n",
    "a=sinsq(1)\n",
    "b=a\n",
    "print(a,b)\n",
    "\n",
    "print(sinsq(5))"
   ]
  },
  {
   "cell_type": "markdown",
   "metadata": {},
   "source": [
    "Again, no surprise: the function returns what you tell it to return with the `return` statement.  Multiple objects can be returned as a sequence, in the following case a list:"
   ]
  },
  {
   "cell_type": "code",
   "execution_count": 58,
   "metadata": {},
   "outputs": [
    {
     "name": "stdout",
     "output_type": "stream",
     "text": [
      "zero:  1.0\n",
      "one:   0.29552020666133955\n",
      "two:   0.08733219254516084\n",
      "[1.0, 0.0, 0.0, 0.0, 0.0]\n",
      "Help on function sinpows in module __main__:\n",
      "\n",
      "sinpows(x, n)\n",
      "    Return the first n powers of sin(x), starting from zero.\n",
      "\n"
     ]
    }
   ],
   "source": [
    "def sinpows(x, n):\n",
    "    \"\"\"\n",
    "    Return the first n powers of sin(x), starting from zero.\n",
    "    \"\"\"\n",
    "    out = []\n",
    "    for i in range(n):\n",
    "        out.append(np.sin(x) ** i)\n",
    "    return out\n",
    "\n",
    "zero, first, second = sinpows(0.3, 3)\n",
    "\n",
    "print(\"zero: \", zero)\n",
    "print(\"one:  \", first)\n",
    "print(\"two:  \", second)\n",
    "\n",
    "d=sinpows(0,5)\n",
    "print(d)\n",
    "help(sinpows)"
   ]
  },
  {
   "cell_type": "markdown",
   "metadata": {},
   "source": [
    "We used automatic unpacking of the returned list to give the outputs individual names.  Any Python object can be returned--even a new function object that is defined inside the function.  That is an advanced technique, however, so we will not illustrate it here.\n",
    "\n",
    "Notice also that we included a *docstring*, a block of text immediately below the definition line, and above the body of function code."
   ]
  },
  {
   "cell_type": "markdown",
   "metadata": {},
   "source": [
    "## More keyword arguments"
   ]
  },
  {
   "cell_type": "markdown",
   "metadata": {},
   "source": [
    "We saw how we could have a variable number of positional arguments---that is, the number is not known when the function is defined, but it can handle any number when it is called.  There is a similar ability with keyword arguments:"
   ]
  },
  {
   "cell_type": "code",
   "execution_count": 59,
   "metadata": {},
   "outputs": [
    {
     "name": "stdout",
     "output_type": "stream",
     "text": [
      "kw is an object of type <class 'dict'>\n",
      "it contains:\n",
      "  key: 'first' with value: 'the first'\n",
      "  key: 'second' with value: 'and the second'\n",
      "  key: 'another' with value: 'yet another'\n"
     ]
    }
   ],
   "source": [
    "def show_kwargs_with_names(**kw):\n",
    "    print(\"kw is an object of type\", type(kw))\n",
    "    print(\"it contains:\")\n",
    "    for key, value in kw.items():\n",
    "        print(\"  key: '%s' with value: '%s'\" % (key, value))\n",
    "        \n",
    "show_kwargs_with_names(first=\"the first\", \n",
    "                       second=\"and the second\", \n",
    "                       another=\"yet another\")\n",
    "\n"
   ]
  },
  {
   "cell_type": "markdown",
   "metadata": {},
   "source": [
    "So, just as `*args` packs up remaining positional arguments in a tuple, `**kw` packs remaining keyword arguments up in a dictionary named 'kw' and makes it available inside the function.  Because it is a dictionary, the order in which the arguments appeared on the command line is lost; but that doesn't matter, because the entries are identified by name, the dictionary key.\n",
    "\n",
    "There is nothing special about the names 'args' and 'kw'; `*stuff` would pack arguments in a tuple called 'stuff', and `**argdict` would make a dictionary named 'argdict'.  But 'args' and 'kw' or 'kwargs' are used most often by convention, and observing such conventions tends to improve readability.\n",
    "\n",
    "`**kw` can directly follow `*args`:"
   ]
  },
  {
   "cell_type": "code",
   "execution_count": 62,
   "metadata": {},
   "outputs": [
    {
     "name": "stdout",
     "output_type": "stream",
     "text": [
      "args is: ('arg1', 'arg2', 'asdasdas')\n",
      "kw is: {'kw1': 'first', 'kw2': 'second', 'kw99': 'dum'}\n"
     ]
    }
   ],
   "source": [
    "def no_explicit_kw(pos1, *args, **kw):\n",
    "    print(\"args is:\", args)\n",
    "    print(\"kw is:\", kw)\n",
    "    \n",
    "no_explicit_kw(\"dummy\", \"arg1\", \"arg2\",\"asdasdas\", kw1=\"first\", kw2=\"second\",kw99='dum')"
   ]
  },
  {
   "cell_type": "markdown",
   "metadata": {},
   "source": [
    "or `**kw` can follow explicitly named keyword arguments, *provided* there is no `*args`:"
   ]
  },
  {
   "cell_type": "code",
   "execution_count": 17,
   "metadata": {},
   "outputs": [
    {
     "name": "stdout",
     "output_type": "stream",
     "text": [
      "kw1 is: the first\n",
      "kw is a dictionary: {'kw2': 'the second', 'kw3': 'the third'}\n"
     ]
    }
   ],
   "source": [
    "def no_star_args(pos1, kw1=\"the first\", **kw):\n",
    "    print(\"kw1 is:\", kw1)\n",
    "    print(\"kw is a dictionary:\", kw)\n",
    "    \n",
    "no_star_args(\"arg0\", kw2=\"the second\", kw3=\"the third\")  "
   ]
  },
  {
   "cell_type": "markdown",
   "metadata": {},
   "source": [
    "Notice that only the keyword arguments that are *not* included in the definition by name get packed up in the `kw` dictionary."
   ]
  },
  {
   "cell_type": "markdown",
   "metadata": {},
   "source": [
    "## More fun with asterisks"
   ]
  },
  {
   "cell_type": "markdown",
   "metadata": {},
   "source": [
    "The single and double asterisk constructs not only can be used in function definitions, they can also be used when calling functions.  A single asterisk unpacks a sequence into a set of positional arguments, and a double asterisk unpacks a dictionary into a sequence of keyword arguments.  Example:"
   ]
  },
  {
   "cell_type": "code",
   "execution_count": 99,
   "metadata": {},
   "outputs": [
    {
     "name": "stdout",
     "output_type": "stream",
     "text": [
      "arguments are  one and two\n",
      "arguments are  asd and asdasdas\n",
      "arguments are  kw0 and kw1\n"
     ]
    },
    {
     "ename": "TypeError",
     "evalue": "with_two_arguments() got an unexpected keyword argument 'kw0'",
     "output_type": "error",
     "traceback": [
      "\u001b[0;31m---------------------------------------------------------------------------\u001b[0m",
      "\u001b[0;31mTypeError\u001b[0m                                 Traceback (most recent call last)",
      "\u001b[0;32m<ipython-input-99-a2460bb06f9e>\u001b[0m in \u001b[0;36m<module>\u001b[0;34m\u001b[0m\n\u001b[1;32m     11\u001b[0m \u001b[0mwith_two_arguments\u001b[0m\u001b[0;34m(\u001b[0m\u001b[0;34m*\u001b[0m\u001b[0mkwdict\u001b[0m\u001b[0;34m)\u001b[0m\u001b[0;34m\u001b[0m\u001b[0;34m\u001b[0m\u001b[0m\n\u001b[1;32m     12\u001b[0m \u001b[0;34m\u001b[0m\u001b[0m\n\u001b[0;32m---> 13\u001b[0;31m \u001b[0mwith_two_arguments\u001b[0m\u001b[0;34m(\u001b[0m\u001b[0;34m**\u001b[0m\u001b[0mkwdict\u001b[0m\u001b[0;34m)\u001b[0m\u001b[0;34m\u001b[0m\u001b[0;34m\u001b[0m\u001b[0m\n\u001b[0m",
      "\u001b[0;31mTypeError\u001b[0m: with_two_arguments() got an unexpected keyword argument 'kw0'"
     ]
    }
   ],
   "source": [
    "def with_two_arguments(arg1, arg2):\n",
    "#     print(\"arguments are %s and %s\" % (arg1, arg2))\n",
    "    print(\"arguments are \", arg1, \"and\", arg2)\n",
    "some_tuple = (\"one\", \"two\")\n",
    "with_two_arguments(*some_tuple)\n",
    "with_two_arguments('asd','asdasdas')\n",
    "\n",
    "kwdict = {\"kw0\":\"a\", \"kw1\":\"b\"}\n",
    "\n",
    "# with_two_arguments(**kwdict)\n",
    "with_two_arguments(*kwdict)\n",
    "\n",
    "with_two_arguments(**kwdict)"
   ]
  },
  {
   "cell_type": "markdown",
   "metadata": {},
   "source": [
    "and"
   ]
  },
  {
   "cell_type": "code",
   "execution_count": 101,
   "metadata": {},
   "outputs": [
    {
     "name": "stdout",
     "output_type": "stream",
     "text": [
      "kw0 is x and kw1 is y\n",
      "kw0 is a and kw1 is b\n"
     ]
    }
   ],
   "source": [
    "def with_kwargs(kw0=\"x\", kw1=\"y\"):\n",
    "    print(\"kw0 is\", kw0, \"and kw1 is\", kw1)\n",
    "    \n",
    "with_kwargs() # defaults\n",
    "kwdict = {\"kw0\":\"a\", \"kw1\":\"b\"}\n",
    "with_kwargs(**kwdict)\n",
    "\n",
    "# some_tuple = (\"one\", \"two\")\n",
    "# with_kwargs(*some_tuple)\n"
   ]
  },
  {
   "cell_type": "markdown",
   "metadata": {},
   "source": [
    "## Caution: watch out for side effects"
   ]
  },
  {
   "cell_type": "markdown",
   "metadata": {},
   "source": [
    "Arguments are passed into Python functions by reference, not by value, so if the function modifies something that is passed in, the modification will be seen outside the function.  Some Python objects can be modified---that is, they are \"mutable\", to use the jargon---and some cannot---they are \"immutable\".  So if you pass a list into a function, and append an element to that list, the list will have the new element after the function has been executed:"
   ]
  },
  {
   "cell_type": "code",
   "execution_count": 106,
   "metadata": {},
   "outputs": [
    {
     "name": "stdout",
     "output_type": "stream",
     "text": [
      "[1, 2, 3, 'tail']\n",
      "[1, 2, 3, 'tail', 'tail']\n",
      "[1, 2, 3, 'tail', 'tail', 'tail']\n"
     ]
    }
   ],
   "source": [
    "def add_tail(x):\n",
    "    \"\"\"\n",
    "    Given a single list input, append the string \"tail\" to the list.\n",
    "\n",
    "    This function returns nothing, but modifies its input argument.\n",
    "    \"\"\"\n",
    "    x.append(\"tail\")\n",
    "    \n",
    "y = [1, 2, 3]\n",
    "add_tail(y)\n",
    "print(y)\n",
    "\n",
    "add_tail(y)\n",
    "print(y)\n",
    "\n",
    "add_tail(y)\n",
    "print(y)"
   ]
  },
  {
   "cell_type": "markdown",
   "metadata": {},
   "source": [
    "This is a valid technique---using a function to modify its argument---so long as you are doing it deliberately, and not by accident."
   ]
  },
  {
   "cell_type": "code",
   "execution_count": null,
   "metadata": {},
   "outputs": [],
   "source": []
  }
 ],
 "metadata": {
  "anaconda-cloud": {},
  "kernelspec": {
   "display_name": "Python 3",
   "language": "python",
   "name": "python3"
  },
  "language_info": {
   "codemirror_mode": {
    "name": "ipython",
    "version": 3
   },
   "file_extension": ".py",
   "mimetype": "text/x-python",
   "name": "python",
   "nbconvert_exporter": "python",
   "pygments_lexer": "ipython3",
   "version": "3.8.6"
  }
 },
 "nbformat": 4,
 "nbformat_minor": 1
}
