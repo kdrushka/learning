{
 "cells": [
  {
   "cell_type": "code",
   "execution_count": 4,
   "metadata": {},
   "outputs": [],
   "source": [
    "# INSTALLING CONDA PACKAGES IN A JUPYTER KERNEL\n",
    "# https://jakevdp.github.io/blog/2017/12/05/installing-python-packages-from-jupyter/\n",
    "\n",
    "import sys\n",
    "print(sys.version_info)\n",
    "# general syntax: \"!conda install --yes --prefix {sys.prefix} PACKAGE_NAME\"\n"
   ]
  },
  {
   "cell_type": "code",
   "execution_count": null,
   "metadata": {},
   "outputs": [],
   "source": [
    "# !conda install --yes --prefix {sys.prefix} dask xarray\n",
    "# !conda install --yes --prefix {sys.prefix} xmitgcm"
   ]
  },
  {
   "cell_type": "code",
   "execution_count": null,
   "metadata": {},
   "outputs": [],
   "source": [
    "# !conda install --yes --prefix {sys.prefix} matlab_kernel"
   ]
  },
  {
   "cell_type": "code",
   "execution_count": 5,
   "metadata": {},
   "outputs": [
    {
     "name": "stdout",
     "output_type": "stream",
     "text": [
      "Collecting package metadata (current_repodata.json): done\n",
      "Solving environment: done\n",
      "\n",
      "## Package Plan ##\n",
      "\n",
      "  environment location: /home/kdrushka/miniconda3\n",
      "\n",
      "  added / updated specs:\n",
      "    - netcdf4\n",
      "\n",
      "\n",
      "The following packages will be downloaded:\n",
      "\n",
      "    package                    |            build\n",
      "    ---------------------------|-----------------\n",
      "    hdf4-4.2.13                |    h10796ff_1004         951 KB  conda-forge\n",
      "    hdf5-1.10.6                |nompi_h6a2412b_1112         3.1 MB  conda-forge\n",
      "    libnetcdf-4.7.4            |nompi_h56d31a8_107         1.3 MB  conda-forge\n",
      "    netcdf4-1.5.5.1            |nompi_py38h1cdf482_100         560 KB  conda-forge\n",
      "    ------------------------------------------------------------\n",
      "                                           Total:         5.9 MB\n",
      "\n",
      "The following NEW packages will be INSTALLED:\n",
      "\n",
      "  bzip2              conda-forge/linux-64::bzip2-1.0.8-h7f98852_4\n",
      "  cftime             conda-forge/linux-64::cftime-1.3.0-py38h0b5ebd8_0\n",
      "  curl               conda-forge/linux-64::curl-7.71.1-he644dc0_8\n",
      "  hdf4               conda-forge/linux-64::hdf4-4.2.13-h10796ff_1004\n",
      "  hdf5               conda-forge/linux-64::hdf5-1.10.6-nompi_h6a2412b_1112\n",
      "  libnetcdf          conda-forge/linux-64::libnetcdf-4.7.4-nompi_h56d31a8_107\n",
      "  netcdf4            conda-forge/linux-64::netcdf4-1.5.5.1-nompi_py38h1cdf482_100\n",
      "\n",
      "\n",
      "\n",
      "Downloading and Extracting Packages\n",
      "hdf5-1.10.6          | 3.1 MB    | ##################################### | 100% \n",
      "libnetcdf-4.7.4      | 1.3 MB    | ##################################### | 100% \n",
      "netcdf4-1.5.5.1      | 560 KB    | ##################################### | 100% \n",
      "hdf4-4.2.13          | 951 KB    | ##################################### | 100% \n",
      "Preparing transaction: done\n",
      "Verifying transaction: done\n",
      "Executing transaction: done\n"
     ]
    }
   ],
   "source": [
    "# !conda install --yes --prefix {sys.prefix} matplotlib\n",
    "# !conda install --yes --prefix {sys.prefix} cartopy\n",
    "# !conda install --yes --prefix {sys.prefix} statsmodels\n",
    "\n",
    "!conda install --yes --prefix {sys.prefix} netCDF4\n"
   ]
  },
  {
   "cell_type": "code",
   "execution_count": null,
   "metadata": {},
   "outputs": [],
   "source": [
    "import matlab_kernel\n",
    "matlab_kernel?"
   ]
  },
  {
   "cell_type": "code",
   "execution_count": null,
   "metadata": {},
   "outputs": [],
   "source": [
    "# !conda install --yes --prefix {sys.prefix} -c conda-forge zarr"
   ]
  },
  {
   "cell_type": "code",
   "execution_count": null,
   "metadata": {},
   "outputs": [],
   "source": [
    "# !conda install --yes --prefix {sys.prefix} aiohttp"
   ]
  },
  {
   "cell_type": "code",
   "execution_count": null,
   "metadata": {},
   "outputs": [],
   "source": [
    "# playing with xmitgcm: https://xmitgcm.readthedocs.io/en/latest/quick_start.html\n",
    "from xmitgcm import open_mdsdataset"
   ]
  },
  {
   "cell_type": "code",
   "execution_count": null,
   "metadata": {},
   "outputs": [],
   "source": [
    "data_dir = './global_oce_latlon'\n",
    "ds = open_mdsdataset(data_dir)"
   ]
  },
  {
   "cell_type": "code",
   "execution_count": null,
   "metadata": {},
   "outputs": [],
   "source": [
    "print(ds)"
   ]
  },
  {
   "cell_type": "code",
   "execution_count": null,
   "metadata": {},
   "outputs": [],
   "source": [
    "from xmitgcm import llcreader"
   ]
  },
  {
   "cell_type": "code",
   "execution_count": null,
   "metadata": {},
   "outputs": [],
   "source": [
    "model = llcreader.ECCOPortalLLC4320Model()"
   ]
  },
  {
   "cell_type": "code",
   "execution_count": null,
   "metadata": {},
   "outputs": [],
   "source": [
    "ds = model.get_dataset(k_chunksize=90)"
   ]
  },
  {
   "cell_type": "code",
   "execution_count": null,
   "metadata": {},
   "outputs": [],
   "source": [
    "ds = model.get_dataset(varnames=['Eta'])"
   ]
  },
  {
   "cell_type": "code",
   "execution_count": null,
   "metadata": {},
   "outputs": [],
   "source": [
    "print(ds)"
   ]
  },
  {
   "cell_type": "code",
   "execution_count": null,
   "metadata": {},
   "outputs": [],
   "source": [
    "print(model.varnames)"
   ]
  },
  {
   "cell_type": "code",
   "execution_count": null,
   "metadata": {},
   "outputs": [],
   "source": [
    "from xmitgcm import llcreader\n",
    "from fsspec.implementations.local import LocalFileSystem\n",
    "fs = LocalFileSystem()\n",
    "print(fs)\n",
    "store = llcreader.BaseStore(fs, base_path='/data1/adac/mitgcm/regions/WesternMed/')\n",
    "print(store)\n",
    "mm = llcreader.LLC4320Model(store) "
   ]
  },
  {
   "cell_type": "code",
   "execution_count": null,
   "metadata": {},
   "outputs": [],
   "source": [
    "mm.get_dataset(varnames=['Eta','U'],iter_start=0, iter_stop=144, iter_step=144)"
   ]
  },
  {
   "cell_type": "code",
   "execution_count": null,
   "metadata": {},
   "outputs": [],
   "source": [
    "mm.domain"
   ]
  },
  {
   "cell_type": "code",
   "execution_count": null,
   "metadata": {},
   "outputs": [],
   "source": [
    "mm.grid_varnames"
   ]
  },
  {
   "cell_type": "code",
   "execution_count": null,
   "metadata": {},
   "outputs": [],
   "source": []
  }
 ],
 "metadata": {
  "kernelspec": {
   "display_name": "Python 3",
   "language": "python",
   "name": "python3"
  },
  "language_info": {
   "codemirror_mode": {
    "name": "ipython",
    "version": 3
   },
   "file_extension": ".py",
   "mimetype": "text/x-python",
   "name": "python",
   "nbconvert_exporter": "python",
   "pygments_lexer": "ipython3",
   "version": "3.8.6"
  }
 },
 "nbformat": 4,
 "nbformat_minor": 4
}
