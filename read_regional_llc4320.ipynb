{
 "cells": [
  {
   "cell_type": "code",
   "execution_count": 1,
   "metadata": {},
   "outputs": [],
   "source": [
    "import os\n",
    "import sys\n",
    "import numpy as np\n",
    "import matplotlib\n",
    "import matplotlib.pyplot as plt\n",
    "import cartopy.crs as ccrs\n",
    "import glob"
   ]
  },
  {
   "cell_type": "code",
   "execution_count": 29,
   "metadata": {},
   "outputs": [
    {
     "data": {
      "text/plain": [
       "<generator object walk at 0x7f42bd0b73c0>"
      ]
     },
     "execution_count": 29,
     "metadata": {},
     "output_type": "execute_result"
    }
   ],
   "source": [
    "# directories\n",
    "datadir='/data1/adac/'\n",
    "llc4320dir=datadir + 'mitgcm/regions/'\n",
    "processdir=datadir + 'process/'\n",
    "\n",
    "REGION='WesternMed'\n",
    "regiondir=llc4320dir+REGION+'/'\n",
    "griddir=regiondir+'grid/'"
   ]
  },
  {
   "cell_type": "code",
   "execution_count": 60,
   "metadata": {},
   "outputs": [
    {
     "ename": "TypeError",
     "evalue": "'module' object is not callable",
     "output_type": "error",
     "traceback": [
      "\u001b[0;31m---------------------------------------------------------------------------\u001b[0m\n\u001b[0;31mTypeError\u001b[0m                                 Traceback (most recent call last)",
      "In  \u001b[0;34m[60]\u001b[0m:\nLine \u001b[0;34m5\u001b[0m:     fnmatch(xcf,\u001b[33m'\u001b[39;49;00m\u001b[33mXC*\u001b[39;49;00m\u001b[33m'\u001b[39;49;00m)\n",
      "\u001b[0;31mTypeError\u001b[0m: 'module' object is not callable\n\u001b[0;31m---------------------------------------------------------------------------\u001b[0m"
     ]
    }
   ],
   "source": [
    "# get grid info\n",
    "xcf=glob.glob(griddir + 'XC*')\n",
    "# print(xcf)\n",
    "import fnmatch\n",
    "fnmatch(xcf,'XC*')\n",
    "\n",
    "# str.find(xcf,'XC_')"
   ]
  },
  {
   "cell_type": "code",
   "execution_count": 65,
   "metadata": {},
   "outputs": [
    {
     "name": "stdout",
     "output_type": "stream",
     "text": [
      "2012-01-30T18:00:00\n",
      "2012-01-30T18:00:00\n",
      "2012-01-30T18:00:00\n",
      "2012-01-30T18:00:00\n",
      "2012-01-30T18:00:00\n"
     ]
    }
   ],
   "source": [
    "# load theta and salt\n",
    "# for thisvar in ['Salt','Theta']:\n",
    "for thisvar in ['Salt']:\n",
    "    thisdir = regiondir + thisvar\n",
    "    for files in os.scandir(thisdir):\n",
    "        fn = thisdir + files.name\n",
    "        # get time from name: timesteps are 25-sec, since sept 9, 2011\n",
    "        timedelta=np.int(files.name[0:10])*25\n",
    "        timedelta=496800*25\n",
    "        tref=np.datetime64('2011-09-09')\n",
    "        thist=tref + np.timedelta64(timedelta,'s')\n",
    "        print(thist)\n",
    "        # get \n",
    "        \n",
    "    \n",
    "fns=regiondir+'Salt/'+'0000010368_Salt_1873.9965.1_192.265.76'\n",
    "nx=192\n",
    "ny=265\n",
    "nz=76\n",
    "# \n",
    "\n",
    "# s=np.memmap(fns,'>f4',mode='r')\n",
    "# s=np.memmap(fns,'>f4',mode='r',shape=(nz,nx,ny))\n",
    "\n",
    "\n",
    "# Load theta and salt data from fnt, fns\n",
    "#      Calculate density and steric height at each level integrated from the surface z=0\n",
    "#      Note that the free surface Eta is not included in the calculation. \n",
    "\n",
    "#      Parameter: \n",
    "#      fnt: the file name of theta\n",
    "#      fns: the file name of salt\n",
    "\n",
    "#     \"\"\"\n",
    "\n",
    "#     s=np.memmap(fns,'>f4',mode='r',shape=(nz,nxy))\n",
    "#     t=np.memmap(fnt,'>f4',mode='r',shape=(nz,nxy))\n",
    "#     dens=popy.jmd95.densjmd95(s,t,pres)\n"
   ]
  },
  {
   "cell_type": "code",
   "execution_count": 4,
   "metadata": {},
   "outputs": [
    {
     "name": "stdout",
     "output_type": "stream",
     "text": [
      "(76, 192, 265)\n",
      "(192, 265)\n",
      "[[36.603245 36.60481  36.59754  ...  0.        0.        0.      ]\n",
      " [ 0.        0.        0.       ...  0.        0.        0.      ]\n",
      " [ 0.        0.        0.       ... 36.592995 36.591145 36.58882 ]\n",
      " ...\n",
      " [37.526783 37.504745 37.462467 ... 37.70333  37.695423 37.689846]\n",
      " [37.68605  37.68328  37.681507 ... 37.61721  37.620544 37.622074]\n",
      " [37.62132  37.618286 37.612495 ... 37.47581  37.474304 37.471447]]\n"
     ]
    }
   ],
   "source": [
    "print(s.shape)\n",
    "zi=0\n",
    "ssub=s[zi,:,:]\n",
    "print(ssub.shape)\n",
    "print(ssub)"
   ]
  },
  {
   "cell_type": "code",
   "execution_count": 5,
   "metadata": {},
   "outputs": [
    {
     "ename": "ValueError",
     "evalue": "magics not found",
     "output_type": "error",
     "traceback": [
      "\u001b[0;31m---------------------------------------------------------------------------\u001b[0m\n\u001b[0;31mValueError\u001b[0m                                Traceback (most recent call last)",
      "In  \u001b[0;34m[5]\u001b[0m:\nLine \u001b[0;34m1\u001b[0m:     %matplotlib inline\n",
      "\u001b[0;31mValueError\u001b[0m: magics not found\n\u001b[0;31m---------------------------------------------------------------------------\u001b[0m"
     ]
    }
   ],
   "source": [
    "%matplotlib inline\n",
    "# plot one level\n",
    "zi=0\n",
    "plt.figure(figsize=(10,10))\n",
    "ax1=plt.subplot(2,2,1)\n",
    "plt.subplots_adjust(hspace=0.1)\n",
    "# ax1.coastlines('50m')\n",
    "dpts=10\n",
    "cb=ax1.pcolor(s[zi,:,:])\n",
    "#                    c=data_std[vpl][::ipl],marker='.',vmin=0,vmax=0.2)\n",
    "#     plt.colorbar(cb,fraction=0.046, pad=0.04, shrink=.5)\n",
    "#     plt.title(r'$\\sigma_%s$' % vpl)\n",
    "plt.show()"
   ]
  },
  {
   "cell_type": "code",
   "execution_count": 28,
   "metadata": {},
   "outputs": [
    {
     "name": "stdout",
     "output_type": "stream",
     "text": [
      "{'commit_hash': '223e783c4',\n",
      " 'commit_source': 'installation',\n",
      " 'default_encoding': 'utf-8',\n",
      " 'ipython_path': '/home/kdrushka/miniconda3/envs/py37/lib/python3.8/site-packages/IPython',\n",
      " 'ipython_version': '7.19.0',\n",
      " 'os_name': 'posix',\n",
      " 'platform': 'Linux-4.15.0-130-generic-x86_64-with-glibc2.10',\n",
      " 'sys_executable': '/home/kdrushka/miniconda3/envs/py37/bin/python',\n",
      " 'sys_platform': 'linux',\n",
      " 'sys_version': '3.8.6 | packaged by conda-forge | (default, Oct  7 2020, '\n",
      "                '19:20:40) \\n'\n",
      "                '[GCC 7.5.0]'}\n"
     ]
    }
   ],
   "source": []
  }
 ],
 "metadata": {
  "kernelspec": {
   "display_name": "Python 3.8 (XPython)",
   "language": "python",
   "name": "xpython"
  },
  "language_info": {
   "file_extension": ".py",
   "mimetype": "text/x-python",
   "name": "python",
   "version": "3.8.6"
  }
 },
 "nbformat": 4,
 "nbformat_minor": 4
}
