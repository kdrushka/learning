{
 "cells": [
  {
   "cell_type": "markdown",
   "metadata": {},
   "source": [
    "# Control structures"
   ]
  },
  {
   "cell_type": "markdown",
   "metadata": {},
   "source": [
    "Programming languages provide structures for executing instructions conditionally and/or repeatedly."
   ]
  },
  {
   "cell_type": "markdown",
   "metadata": {},
   "source": [
    "## Branching and conditional execution: \"if\""
   ]
  },
  {
   "cell_type": "markdown",
   "metadata": {},
   "source": [
    "Here is the simplest version with branching.  Note the \":\" at the end of the `if` line and the `else:`, and also notice the indentation.  Uniquely in Python, **indentation identifies a block of code to be executed as a unit.** Always use **4 spaces** for each level of indentation.  The IPython notebook helps you do this automatically.  \n",
    "\n",
    "When using a text editor to write Python code directly to a text file, you might need to configure the editor to insert 4 spaces when you press the Tab key, and to strip space characters from the ends of lines when the file is written to disk.  Python itself is not so fussy about these things, but attending to them will make other important coding tools work much better."
   ]
  },
  {
   "cell_type": "code",
   "execution_count": 1,
   "metadata": {},
   "outputs": [
    {
     "name": "stdout",
     "output_type": "stream",
     "text": [
      "small\n"
     ]
    }
   ],
   "source": [
    "a = 5\n",
    "if a == [5]:\n",
    "    print(\"big\")\n",
    "else:\n",
    "    print(\"small\")"
   ]
  },
  {
   "cell_type": "markdown",
   "metadata": {},
   "source": [
    "There can be more than one option:"
   ]
  },
  {
   "cell_type": "code",
   "execution_count": 2,
   "metadata": {},
   "outputs": [
    {
     "name": "stdout",
     "output_type": "stream",
     "text": [
      "zilch\n"
     ]
    }
   ],
   "source": [
    "a = -9999\n",
    "if a <= 0:\n",
    "    print(\"zilch\")\n",
    "elif a < 5:\n",
    "    print(\"small\")\n",
    "elif a == 5:\n",
    "    print(\"just right\")\n",
    "else:\n",
    "    print(\"too big\")"
   ]
  },
  {
   "cell_type": "markdown",
   "metadata": {},
   "source": [
    "Notice that Python uses `elif` where some languages use \"elseif\" and others use \"else if\".\n",
    "\n",
    "More importantly, notice that the indented block needs no \"end\" marker--it ends where the indentation ends.  What you see is what you get!"
   ]
  },
  {
   "cell_type": "markdown",
   "metadata": {},
   "source": [
    "## Looping: \"for\" and \"while\""
   ]
  },
  {
   "cell_type": "markdown",
   "metadata": {},
   "source": [
    "A \"for\" loop also involves a line ending in a colon, and an indented block:"
   ]
  },
  {
   "cell_type": "code",
   "execution_count": 3,
   "metadata": {},
   "outputs": [
    {
     "name": "stdout",
     "output_type": "stream",
     "text": [
      "Jan J a\n",
      "January\n",
      "an\n",
      "Feb F e\n",
      "February\n",
      "ebr\n",
      "Mar M a\n",
      "March\n",
      "\n",
      "Apr A p\n",
      "April\n",
      "\n",
      "May M a\n",
      "May\n",
      "\n"
     ]
    }
   ],
   "source": [
    "months = [\"January\", \"February\", \"March\", \"April\", \"May\"]\n",
    "for m in months:\n",
    "    print(m[:3],m[0],m[1])\n",
    "    print(m)\n",
    "    print(m[1:-4])"
   ]
  },
  {
   "cell_type": "code",
   "execution_count": 4,
   "metadata": {},
   "outputs": [
    {
     "name": "stdout",
     "output_type": "stream",
     "text": [
      "10\n",
      "20\n",
      "x is 20.000000 so x**2 is 400\n",
      "20\n",
      "40\n",
      "x is 40.000000 so x**2 is 1600\n",
      "30\n",
      "60\n",
      "x is 60.000000 so x**2 is 3600\n",
      "40\n",
      "80\n",
      "x is 80.000000 so x**2 is 6400\n"
     ]
    }
   ],
   "source": [
    "for x in range(10, 50, 10):\n",
    "    print(x)\n",
    "    x*=2\n",
    "    print(x)\n",
    "    print(\"x is %f so x**2 is %d\" % (x, x**2))"
   ]
  },
  {
   "cell_type": "markdown",
   "metadata": {},
   "source": [
    "We introduced some string formatting syntax there: each \"%d\" in the string is replaced with a matching integer from the tuple to the right of the final percent sign.  More about this later; for now, the main point is that\n",
    "\n",
    "    for x in y:\n",
    "        print x ** 2\n",
    "\n",
    "simply iterates over the elements in ``y``.  In the example above, the Python built-in ``range()`` function returns a list (python 2) or an iterator (python 3), so the loop is over the elements of that list, or the items returned sequentially by the iterator."
   ]
  },
  {
   "cell_type": "markdown",
   "metadata": {},
   "source": [
    "Sometimes one wants to keep executing a block of code until a condition is met.  This is done with a ``while`` loop:"
   ]
  },
  {
   "cell_type": "code",
   "execution_count": 5,
   "metadata": {},
   "outputs": [
    {
     "name": "stdout",
     "output_type": "stream",
     "text": [
      "1\n",
      "6\n",
      "11\n",
      "16\n",
      "21\n",
      "26\n",
      "31\n",
      "36\n",
      "41\n",
      "46\n",
      "51\n",
      "56\n",
      "61\n",
      "66\n",
      "71\n",
      "76\n",
      "81\n",
      "86\n",
      "91\n",
      "96\n",
      "the loop ended when x hit 101\n"
     ]
    }
   ],
   "source": [
    "x = 1\n",
    "while x < 100:\n",
    "    print(x)\n",
    "    x+=5\n",
    "#     x = x + x ** 2\n",
    "print('the loop ended when x hit', x)"
   ]
  },
  {
   "cell_type": "markdown",
   "metadata": {},
   "source": [
    "Loops and branching often work together.  The ``break`` statement brings an immediate exit from a loop, and a ``continue`` statement skips the remainder of a loop block and jumps to the next iteration of the loop."
   ]
  },
  {
   "cell_type": "code",
   "execution_count": 7,
   "metadata": {},
   "outputs": [
    {
     "name": "stdout",
     "output_type": "stream",
     "text": [
      "3\n",
      "odd number; try the next one\n",
      "4\n",
      "even:  4\n",
      "5\n",
      "odd number; try the next one\n",
      "6\n",
      "even:  6\n",
      "7\n",
      "odd number; try the next one\n",
      "8\n",
      "even:  8\n",
      "x ** 2 is too big; we quit here\n"
     ]
    }
   ],
   "source": [
    "for x in range(3, 20,1):\n",
    "    print(x)\n",
    "    if x % 2 == 1:\n",
    "        print(\"odd number; try the next one\")\n",
    "        continue\n",
    "    print(\"even: \", x)\n",
    "    if x ** 2 > 60:\n",
    "        print(\"x ** 2 is too big; we quit here\")\n",
    "        break"
   ]
  },
  {
   "cell_type": "markdown",
   "metadata": {},
   "source": [
    "There is also a ``pass`` statement which means \"do nothing\".  We will see it in a later notebook when we introduce Exceptions."
   ]
  },
  {
   "cell_type": "code",
   "execution_count": null,
   "metadata": {},
   "outputs": [],
   "source": []
  }
 ],
 "metadata": {
  "anaconda-cloud": {},
  "kernelspec": {
   "display_name": "Python 3",
   "language": "python",
   "name": "python3"
  },
  "language_info": {
   "codemirror_mode": {
    "name": "ipython",
    "version": 3
   },
   "file_extension": ".py",
   "mimetype": "text/x-python",
   "name": "python",
   "nbconvert_exporter": "python",
   "pygments_lexer": "ipython3",
   "version": "3.8.6"
  }
 },
 "nbformat": 4,
 "nbformat_minor": 1
}
