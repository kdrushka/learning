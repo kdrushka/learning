{
 "cells": [
  {
   "cell_type": "markdown",
   "metadata": {},
   "source": [
    "# <font color='red'><i>Ocean 215, Assignment 4</i></font>  (Due 12/8/19)\n",
    "### <font color='blue'>(120 possible points)</font>\n",
    "### [Note:  submit your completed assignment as a <i><font color='red'>ipynb</i></font> file on Canvas under the Assignments tab.   Name your file using the convention <font color='red'><i>lastname.firstname.A4.215.2019.ipynb</i></font> . ]"
   ]
  },
  {
   "cell_type": "markdown",
   "metadata": {},
   "source": [
    "#### 1.  The file <i><font color='blue'>WOD09.zooplankton.csv</font></i> (available on the Canvas site) contains zooplankton sample data for the world ocean.  Open the file in a text editor in order to determine what information is contained in the file. \n",
    "#### (a) Write Python code to read the file.  Use your code to determine how many countries have contributed to this database, and list the countries.\n",
    "#### (b) Two of the types of zooplankton widely found in this database are (1) <i><font color='green'>Chaetognatha</font></i> (a type of planktonic marine worm) and (2) <i><font color='green'>Copepoda</font></i> (a type of planktonic crustacean).  Write code to determine the numbers of samples in the database for each of these types of zooplankton.\n",
    "#### (c)  Using <i><font color='green'>Basemap</font></i> and the data file, make a global plot of the locations of the samples of <i>Chaetognatha</i> (plotted with <font color='red'>red</font> symbols) and <i>Copepoda</i> (plotted with <font color='blue'>blue</font> symbols). \n",
    "#### <font color='red'>(20 points for each part, for a total of 60 points)</font>"
   ]
  },
  {
   "cell_type": "code",
   "execution_count": null,
   "metadata": {
    "collapsed": true
   },
   "outputs": [],
   "source": []
  },
  {
   "cell_type": "markdown",
   "metadata": {},
   "source": [
    "#### 2. The file <font color='blue'><i>hydrostationS.data.txt</i></font> (available on the Canvas site) gives the temperature and salinity near a depth of 1000 m sampled at regular intervals (approximately every 2 weeks) near Bermuda over the past 32 years.   \n",
    "#### (a) Read this file, and plot the temperature and salinity (separate plots) as a function of time over the data interval, with proper labels on the plots and axes, and including a grid.  Visually compare the plots.  Do they appear to be similar?\n",
    "#### (b) Plot the salinity ($y$-axis) against the temperature ($x$-axis), with data denoted by filled circles, axes annotated appropriately, and a grid added.  Carry out a linear regression in the form $y(x)$ of salinity and temperature.   Is there a reasonable, quantifiable relationship between these two variables?\n",
    "#### (c) What is the correlation between the temperature and salinity at a depth of 1000 m over this interval?  What is the relationship of the correlation to the linear refgression you found in part (b)?\n",
    "#### <font color='red'>(20 points for each part, for a total of 60 points)</font>\n"
   ]
  },
  {
   "cell_type": "code",
   "execution_count": null,
   "metadata": {
    "collapsed": true
   },
   "outputs": [],
   "source": []
  },
  {
   "cell_type": "markdown",
   "metadata": {},
   "source": [
    "#### Note:  there are many methods to answer these questions using Python code.  <font color='red'><i>For this assignment, DO NOT use any features of Python that have not been discussed in class or that do not appear in the class notes.</i></font>\n",
    "\n"
   ]
  }
 ],
 "metadata": {
  "celltoolbar": "Raw Cell Format",
  "kernelspec": {
   "display_name": "Python 3",
   "language": "python",
   "name": "python3"
  },
  "language_info": {
   "codemirror_mode": {
    "name": "ipython",
    "version": 3
   },
   "file_extension": ".py",
   "mimetype": "text/x-python",
   "name": "python",
   "nbconvert_exporter": "python",
   "pygments_lexer": "ipython3",
   "version": "3.8.6"
  }
 },
 "nbformat": 4,
 "nbformat_minor": 1
}
