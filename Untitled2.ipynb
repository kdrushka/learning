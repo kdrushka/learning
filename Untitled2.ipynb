{
 "cells": [
  {
   "cell_type": "code",
   "execution_count": 4,
   "metadata": {},
   "outputs": [],
   "source": [
    "import sys\n",
    "import pdb"
   ]
  },
  {
   "cell_type": "code",
   "execution_count": null,
   "metadata": {},
   "outputs": [],
   "source": [
    "# %run -d -b5 zero_divide_exception.py\n",
    "%pdb\n",
    "nsamp = 1000\n",
    "nbins = nsamp // 50\n",
    "\n",
    "np.random.seed(1234)\n",
    "%-b\n",
    "yg = np.random.randn(nsamp)\n",
    "yu = np.random.rand(nsamp)\n",
    "\n",
    "fig, axs = plt.subplots(2, 2)\n",
    "fig.subplots_adjust(hspace=0.3)\n",
    "\n",
    "ax = axs[0, 0]\n",
    "ax.hist(yu, bins=nbins)\n",
    "ax.set_title('Uniform per bin')\n",
    "\n",
    "ax = axs[1, 0]\n",
    "ax.hist(yu, bins=nbins, cumulative=True)\n",
    "ax.set_title('Uniform cumulative')\n",
    "\n",
    "ax = axs[0, 1]\n",
    "ax.hist(yg, bins=nbins)\n",
    "ax.set_title('Normal per bin')\n",
    "\n",
    "ax = axs[1, 1]\n",
    "ax.hist(yg, bins=nbins, cumulative=True)\n",
    "ax.set_title('Normal cumulative');"
   ]
  },
  {
   "cell_type": "code",
   "execution_count": null,
   "metadata": {},
   "outputs": [],
   "source": [
    "def test_debug(y):\n",
    "    x = 10\n",
    "    # One-liner to start the debugger here.\n",
    "    from IPython.core.debugger import Tracer; Tracer()() \n",
    "    x = x + y \t \n",
    " \n",
    "    for i in range(10):\n",
    "        x = x+i\n",
    " \n",
    "    return x\n",
    "\n"
   ]
  }
 ],
 "metadata": {
  "kernelspec": {
   "display_name": "Python 3",
   "language": "python",
   "name": "python3"
  },
  "language_info": {
   "codemirror_mode": {
    "name": "ipython",
    "version": 3
   },
   "file_extension": ".py",
   "mimetype": "text/x-python",
   "name": "python",
   "nbconvert_exporter": "python",
   "pygments_lexer": "ipython3",
   "version": "3.8.6"
  }
 },
 "nbformat": 4,
 "nbformat_minor": 4
}
