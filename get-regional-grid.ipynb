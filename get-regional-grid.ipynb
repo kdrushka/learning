{
 "cells": [
  {
   "cell_type": "code",
   "execution_count": 5,
   "metadata": {},
   "outputs": [],
   "source": [
    "import glob\n",
    "import re"
   ]
  },
  {
   "cell_type": "code",
   "execution_count": 2,
   "metadata": {},
   "outputs": [],
   "source": [
    "# directories\n",
    "datadir='/data1/adac/'\n",
    "llc4320dir=datadir + 'mitgcm/regions/'\n",
    "processdir=datadir + 'process/'\n"
   ]
  },
  {
   "cell_type": "code",
   "execution_count": 48,
   "metadata": {},
   "outputs": [
    {
     "name": "stdout",
     "output_type": "stream",
     "text": [
      "RockallTrough,210,384,63\n",
      "CapeBasin,192,282,88\n",
      "MarmaraSea,192,273,70\n",
      "latlon,17280,8640,90\n",
      "BassStrait,192,271,80\n",
      "NewCaledonia,192,221,90\n",
      "LabradorSea,216,400,74\n",
      "NWPacific,192,224,89\n",
      "ACC_SMST,192,349,84\n",
      "ROAM_MIZ,192,411,87\n",
      "WesternMed,192,265,76\n"
     ]
    }
   ],
   "source": [
    "# open a new file\n",
    "f = open(processdir + 'llc4320_regional_grids.txt', 'w')\n",
    "# header\n",
    "f.write('region,Nx,Ny,Nz\\n')\n",
    "\n",
    "# get grid info by parsing the hFacC file\n",
    "for hf in glob.glob(llc4320dir + '/**/grid/hFacC**'):\n",
    "#     print(hf)\n",
    "    pat1=re.compile(r'regions/(.*)/grid/')\n",
    "    REGION=pat1.search(hf).group(1)\n",
    "    pattern=re.compile(r'hFacC_(.*)x(.*)x(.*)')\n",
    "    nx=pattern.search(hf).group(1)\n",
    "    ny=pattern.search(hf).group(2)\n",
    "    nz=pattern.search(hf).group(3)\n",
    "    print(REGION + ',' + nx + ',' + ny + ',' + nz)\n",
    "    f.write(REGION + ',' + nx + ',' + ny + ',' + nz + '\\n')\n",
    "f.close()"
   ]
  }
 ],
 "metadata": {
  "kernelspec": {
   "display_name": "Python 3.8 (XPython)",
   "language": "python",
   "name": "xpython"
  },
  "language_info": {
   "file_extension": ".py",
   "mimetype": "text/x-python",
   "name": "python",
   "version": "3.8.6"
  }
 },
 "nbformat": 4,
 "nbformat_minor": 4
}
