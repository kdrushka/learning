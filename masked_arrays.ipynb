{
 "cells": [
  {
   "cell_type": "markdown",
   "metadata": {},
   "source": [
    "# Missing data: masked arrays"
   ]
  },
  {
   "cell_type": "markdown",
   "metadata": {},
   "source": [
    "When working with real oceanographic data sets, there are often gaps.  One way of handling them is to fill them with NaN, and then write functions that treat NaNs however we desire.  For example, we might want calculate the mean of all values that are not NaN.  In some such cases, there is already a numpy function to do this type of calculation: numpy now includes `nanmean`, `nanmax`, `nanmin`, `nanargmax`, `nanargmin`, `nanstd`, `nanvar`, and `nansum`.  The use of NaN as a bad value flag is typical in Matlab code.  \n",
    "\n",
    "Numpy, however, provides an alternative way to handle missing data: the `numpy.ma` module, with its `MaskedArray` subclass of the fundamental `numpy.ndarray` class.  There are a few rough edges in `numpy.ma`, but it has some substantial advantages over relying on NaN, so I use it extensively.  It is well supported in Matplotlib, and is used by default in the netCDF4 package.\n",
    "\n",
    "Advantages of masked arrays include:\n",
    "- They work with any type of data, not just with floating point.\n",
    "- They can lead to simpler, more concise code.\n",
    "\n",
    "Regardless of the degree to which you end up using masked arrays in your own code, you will encounter them, so you need to know at least a few things about them.  This notebook barely\n",
    "scratches the surface.  For a thorough introduction, see the \n",
    "[numpy reference docs for ma](https://docs.scipy.org/doc/numpy/reference/maskedarray.html). And, of course, check the docstrings directly as you are reading or writing code."
   ]
  },
  {
   "cell_type": "markdown",
   "metadata": {},
   "source": [
    "## The bare minimum: conversion to ndarray"
   ]
  },
  {
   "cell_type": "markdown",
   "metadata": {},
   "source": [
    "Suppose you are using a library that reads a file (e.g., netCDF) and returns the results as a masked array.  Or, perhaps it might return either an ndarray or a masked array.  Further, suppose you want to do your work with NaN-filled ndarrays.  Here is an example of how you can  ensure you end up with a floating point array in which\n",
    "`np.nan` replaces originally masked values, if any:"
   ]
  },
  {
   "cell_type": "code",
   "execution_count": 8,
   "metadata": {},
   "outputs": [
    {
     "name": "stdout",
     "output_type": "stream",
     "text": [
      "The input integer masked array is:\n",
      "[1 -- 2 3]\n",
      "Converted to double precision, with nan:\n",
      "[ 1. nan  2.  3.]\n",
      "[  1 999   2   3]\n"
     ]
    }
   ],
   "source": [
    "import numpy as np\n",
    "\n",
    "# Later we will use random number sequences.\n",
    "rng = np.random.default_rng(2020)\n",
    "\n",
    "# make an example of an 8-bit integer masked array:\n",
    "x = np.ma.array([1, 100, 2, 3], mask=[False, True, False, False],\n",
    "                dtype=np.int8)\n",
    "print(\"The input integer masked array is:\")\n",
    "print(x)\n",
    "\n",
    "xnan = np.ma.filled(x.astype(float), np.nan)\n",
    "print(\"Converted to double precision, with nan:\")\n",
    "print(xnan)\n",
    "\n",
    "print(np.ma.filled(x.astype(int), 999))"
   ]
  },
  {
   "cell_type": "markdown",
   "metadata": {},
   "source": [
    "We first used the `astype(float)` method call to generate a double precision array. (In this case we could also use single precision with no loss of accuracy.) This method is available to ndarrays and to masked arrays, so it would work even if x were an ndarray.  Next, this floating point array is used as the first argument to the `np.ma.filled` function, which returns an ndarray of the same dtype, but with its second argument used to replace the masked values.  If its first argument is already an ndarray, `np.ma.filled` returns that argument unchanged.\n",
    "\n",
    "There are other ways of accomplishing this nan-filled conversion, sometimes more efficiently (that is, without copying the data unnecessarily), but the method above is adequate for now."
   ]
  },
  {
   "cell_type": "markdown",
   "metadata": {},
   "source": [
    "## Taking advantage of masked arrays"
   ]
  },
  {
   "cell_type": "markdown",
   "metadata": {},
   "source": [
    "Now let's see how we can *take advantage* of masked arrays instead of immediately converting them into ndarrays.\n",
    "\n",
    "If we have input that might be a masked array or an ndarray, possibly with NaN and/or inf values, we can start by converting, if necessary, to a masked array:"
   ]
  },
  {
   "cell_type": "code",
   "execution_count": 11,
   "metadata": {},
   "outputs": [
    {
     "name": "stdout",
     "output_type": "stream",
     "text": [
      "input array with bad values:\n",
      "[1.  2.5 nan 1.3 inf 7.2]\n",
      "masked version:\n",
      "[1.0 2.5 -- 1.3 -- 7.2]\n",
      "[1.0 2.5 -- 1.3 -- 7.2]\n"
     ]
    }
   ],
   "source": [
    "# sample input ndarray:\n",
    "x = np.array([1.0, 2.5, np.nan, 1.3, np.inf, 7.2])\n",
    "print(\"input array with bad values:\")\n",
    "print(x)\n",
    "\n",
    "xm = np.ma.masked_invalid(x)\n",
    "print(\"masked version:\")\n",
    "print(xm)\n"
   ]
  },
  {
   "cell_type": "markdown",
   "metadata": {},
   "source": [
    "The masked array has nearly all of the methods that an ndarray has, and a few special ones of its own.  For example, to find out how many unmasked values it contains, there is the `count` method:"
   ]
  },
  {
   "cell_type": "code",
   "execution_count": 20,
   "metadata": {},
   "outputs": [
    {
     "name": "stdout",
     "output_type": "stream",
     "text": [
      "xm has 4 unmasked values\n",
      "7\n",
      "6\n"
     ]
    }
   ],
   "source": [
    "print(\"xm has\", xm.count(), \"unmasked values\")\n",
    "\n",
    "print(np.ma.array([1,2,3,4,5,6,np.nan]).count())\n",
    "print(np.ma.masked_invalid(np.ma.array([1,2,3,4,5,6,np.nan])).count())"
   ]
  },
  {
   "cell_type": "markdown",
   "metadata": {},
   "source": [
    "To extract an ndarray containing only the unmasked values, use the `compressed` method:"
   ]
  },
  {
   "cell_type": "code",
   "execution_count": 22,
   "metadata": {},
   "outputs": [
    {
     "name": "stdout",
     "output_type": "stream",
     "text": [
      "[1.0 2.5 -- 1.3 -- 7.2]\n",
      "unmasked values are [1.  2.5 1.3 7.2]\n"
     ]
    }
   ],
   "source": [
    "print(xm)\n",
    "print(\"unmasked values are\", xm.compressed())"
   ]
  },
  {
   "cell_type": "markdown",
   "metadata": {},
   "source": [
    "For both ndarrays and masked arrays, there are often functions that correspond to methods, and vice versa. An advantage of using methods is that they inherently \"do the right thing\"--the method of a masked array includes functionality to deal with the mask.  With both methods and functions, it is not always obvious when the returned object will be an ndarray and when it will be a masked array, so when it matters it is wise to check, either with a test or by reading the documentation."
   ]
  },
  {
   "cell_type": "markdown",
   "metadata": {},
   "source": [
    "Sometimes it is useful to extract the mask, perhaps to use for masking another variable.  Use the `np.ma.getmaskarray` function to get a full-size boolean mask corresponding to a given array, masked or not:"
   ]
  },
  {
   "cell_type": "code",
   "execution_count": 23,
   "metadata": {},
   "outputs": [
    {
     "name": "stdout",
     "output_type": "stream",
     "text": [
      "sample ndarray, x:\n",
      "[[ 0  1  2  3]\n",
      " [ 4  5  6  7]\n",
      " [ 8  9 10 11]]\n",
      "\n",
      "np.ma.getmaskarray(x):\n",
      "[[False False False False]\n",
      " [False False False False]\n",
      " [False False False False]]\n"
     ]
    }
   ],
   "source": [
    "x = np.arange(12).reshape(3, 4)\n",
    "print(\"sample ndarray, x:\")\n",
    "print(x)\n",
    "print(\"\\nnp.ma.getmaskarray(x):\")\n",
    "print(np.ma.getmaskarray(x))"
   ]
  },
  {
   "cell_type": "markdown",
   "metadata": {},
   "source": [
    "When a masked array is created with no masked values, it's `mask` attribute does not contain a full Boolean array; this is to save space and time, in case it turns out that nothing ever needs to be masked:"
   ]
  },
  {
   "cell_type": "markdown",
   "metadata": {},
   "source": [
    "xm = np.ma.arange(6).reshape(2, 3)\n",
    "print(\"fresh masked array, xm:\")\n",
    "print(xm)\n",
    "print(\"\\nxm.mask is actually np.ma.nomask, but prints as:\")\n",
    "print(xm.mask)\n",
    "\n"
   ]
  },
  {
   "cell_type": "markdown",
   "metadata": {},
   "source": [
    "## Masking values in a masked array"
   ]
  },
  {
   "cell_type": "markdown",
   "metadata": {},
   "source": [
    "We have already seen one way of ending up with masked values: using `np.ma.masked_invalid`.  There are many more, e.g.:"
   ]
  },
  {
   "cell_type": "code",
   "execution_count": 30,
   "metadata": {},
   "outputs": [
    {
     "name": "stdout",
     "output_type": "stream",
     "text": [
      "[0 1 2 3 4 5 -- -- -- --]\n"
     ]
    }
   ],
   "source": [
    "x = np.arange(10)\n",
    "xm = np.ma.masked_greater(x, 5)\n",
    "print(xm)"
   ]
  },
  {
   "cell_type": "markdown",
   "metadata": {},
   "source": [
    "Mask a set of values in an existing masked array using indexing:"
   ]
  },
  {
   "cell_type": "code",
   "execution_count": 33,
   "metadata": {},
   "outputs": [
    {
     "name": "stdout",
     "output_type": "stream",
     "text": [
      "[0 -- 2 -- 4]\n",
      "[0 0 2 0 4]\n"
     ]
    }
   ],
   "source": [
    "xm = np.ma.arange(5)\n",
    "xm[[1, 3]] = np.ma.masked\n",
    "print(xm)\n",
    "\n",
    "# itneresting- returns zeros if x is not a ma\n",
    "xnotm=np.arange(5)\n",
    "xnotm[[1,3]]=np.ma.masked\n",
    "print(xnotm)"
   ]
  },
  {
   "cell_type": "markdown",
   "metadata": {},
   "source": [
    "## Math"
   ]
  },
  {
   "cell_type": "markdown",
   "metadata": {},
   "source": [
    "For operations like addition and multiplication, a masked value acts like a NaN: the output is masked. Division is more interesting: division by zero yields a masked value, not an error:"
   ]
  },
  {
   "cell_type": "code",
   "execution_count": 34,
   "metadata": {},
   "outputs": [
    {
     "name": "stdout",
     "output_type": "stream",
     "text": [
      "[1 0 --]\n",
      "[1.0 -- --]\n"
     ]
    }
   ],
   "source": [
    "x = np.ma.array([1, 2, 3], mask=[False, False, True])\n",
    "y = np.ma.array([1, 0, 1])\n",
    "print(x * y)\n",
    "print(x/y)"
   ]
  },
  {
   "cell_type": "markdown",
   "metadata": {},
   "source": [
    "Similarly, evaluating a function with arguments outside the domain of that function simply yields masked values:"
   ]
  },
  {
   "cell_type": "code",
   "execution_count": 43,
   "metadata": {},
   "outputs": [
    {
     "name": "stdout",
     "output_type": "stream",
     "text": [
      "[0.9272952180016123 1.5707963267948966 --]\n",
      "--\n",
      "nan\n"
     ]
    },
    {
     "name": "stderr",
     "output_type": "stream",
     "text": [
      "<ipython-input-43-3fa7166e80f0>:4: RuntimeWarning: invalid value encountered in log10\n",
      "  a=np.log10(-10) # error but returns nan\n"
     ]
    }
   ],
   "source": [
    "print(np.ma.arcsin([0.8, 1, 1.5]))\n",
    "\n",
    "print(np.ma.log10(-10)) # masked\n",
    "a=np.log10(-10) # warning, but returns nan\n",
    "print(a)"
   ]
  },
  {
   "cell_type": "markdown",
   "metadata": {},
   "source": [
    "## Compare the NaN alternative"
   ]
  },
  {
   "cell_type": "markdown",
   "metadata": {},
   "source": [
    "In the examples above, a mathematical operation silently masks the\n",
    "locations of invalid results.  What happens without masked arrays?"
   ]
  },
  {
   "cell_type": "code",
   "execution_count": 44,
   "metadata": {},
   "outputs": [
    {
     "name": "stderr",
     "output_type": "stream",
     "text": [
      "<ipython-input-44-3b90dd15d450>:1: RuntimeWarning: invalid value encountered in arcsin\n",
      "  np.arcsin([0.8, 1, 1.5])\n"
     ]
    },
    {
     "data": {
      "text/plain": [
       "array([0.92729522, 1.57079633,        nan])"
      ]
     },
     "execution_count": 44,
     "metadata": {},
     "output_type": "execute_result"
    }
   ],
   "source": [
    "np.arcsin([0.8, 1, 1.5])"
   ]
  },
  {
   "cell_type": "markdown",
   "metadata": {},
   "source": [
    "We get a warning along with the desired result.  We can suppress the warning\n",
    "like this:"
   ]
  },
  {
   "cell_type": "code",
   "execution_count": null,
   "metadata": {},
   "outputs": [],
   "source": [
    "with np.errstate(invalid='ignore'):\n",
    "    np.arcsin([0.8, 1, 1.5])"
   ]
  },
  {
   "cell_type": "markdown",
   "metadata": {},
   "source": [
    "but having to include such explicit handling of warnings\n",
    "is not always desirable."
   ]
  },
  {
   "cell_type": "markdown",
   "metadata": {},
   "source": [
    "## Speed"
   ]
  },
  {
   "cell_type": "markdown",
   "metadata": {},
   "source": [
    "In cases where everything is done using floating point, so missing\n",
    "values could be handled with Nan, masked arrays incur a speed\n",
    "penalty.  Depending on the application for which the code is\n",
    "written, the convenience of masked arrays might or might not\n",
    "outweigh this penalty.  We will show a couple of quick tests\n",
    "based on the example above to get an idea of how large the penalty\n",
    "might be.  "
   ]
  },
  {
   "cell_type": "code",
   "execution_count": 45,
   "metadata": {},
   "outputs": [
    {
     "name": "stdout",
     "output_type": "stream",
     "text": [
      "2.01 ms ± 1.22 µs per loop (mean ± std. dev. of 7 runs, 100 loops each)\n"
     ]
    }
   ],
   "source": [
    "x = rng.random((1000000,))\n",
    "x[x > 1] = np.nan\n",
    "y = x.copy()\n",
    "y[y < 0] = 0\n",
    "%timeit x / y"
   ]
  },
  {
   "cell_type": "code",
   "execution_count": 46,
   "metadata": {},
   "outputs": [
    {
     "name": "stdout",
     "output_type": "stream",
     "text": [
      "37 ms ± 54.6 µs per loop (mean ± std. dev. of 7 runs, 10 loops each)\n"
     ]
    }
   ],
   "source": [
    "xm = np.ma.masked_invalid(x)\n",
    "%timeit xm / y"
   ]
  },
  {
   "cell_type": "markdown",
   "metadata": {},
   "source": [
    "A factor of 30 for simple division: that's pretty bad. I suspect it \n",
    "could be greatly reduced by taking advantage of numpy capabilities\n",
    "that did not exist when the masked array sub-package was originally\n",
    "written, and possibly including a slight change in behavior, but \n",
    "for now we are stuck with it."
   ]
  },
  {
   "cell_type": "code",
   "execution_count": 47,
   "metadata": {},
   "outputs": [
    {
     "name": "stdout",
     "output_type": "stream",
     "text": [
      "1.84 ms ± 4.46 µs per loop (mean ± std. dev. of 7 runs, 1000 loops each)\n"
     ]
    }
   ],
   "source": [
    "%timeit x * y"
   ]
  },
  {
   "cell_type": "code",
   "execution_count": 48,
   "metadata": {},
   "outputs": [
    {
     "name": "stdout",
     "output_type": "stream",
     "text": [
      "2.3 ms ± 5.55 µs per loop (mean ± std. dev. of 7 runs, 100 loops each)\n"
     ]
    }
   ],
   "source": [
    "%timeit xm * y"
   ]
  },
  {
   "cell_type": "markdown",
   "metadata": {},
   "source": [
    "Multiplication: very little penalty."
   ]
  },
  {
   "cell_type": "code",
   "execution_count": 49,
   "metadata": {},
   "outputs": [
    {
     "name": "stderr",
     "output_type": "stream",
     "text": [
      "<magic-timeit>:1: RuntimeWarning: invalid value encountered in arcsin\n"
     ]
    },
    {
     "name": "stdout",
     "output_type": "stream",
     "text": [
      "16.8 ms ± 83.9 µs per loop (mean ± std. dev. of 7 runs, 100 loops each)\n"
     ]
    }
   ],
   "source": [
    "x = rng.random((1000000,)) * 1.5\n",
    "%timeit np.arcsin(x)"
   ]
  },
  {
   "cell_type": "code",
   "execution_count": 50,
   "metadata": {},
   "outputs": [
    {
     "name": "stdout",
     "output_type": "stream",
     "text": [
      "24.5 ms ± 131 µs per loop (mean ± std. dev. of 7 runs, 10 loops each)\n"
     ]
    }
   ],
   "source": [
    "%timeit np.ma.arcsin(x)"
   ]
  },
  {
   "cell_type": "markdown",
   "metadata": {},
   "source": [
    "Less than a factor of 2 for the function call: not so bad."
   ]
  },
  {
   "cell_type": "markdown",
   "metadata": {},
   "source": [
    "## Methods and functions"
   ]
  },
  {
   "cell_type": "markdown",
   "metadata": {},
   "source": [
    "Let's compare approaches with simple statistics, like mean and standard deviation. \n",
    "Make 3 arrays, one with no bad values, a second with some nans, and\n",
    "a third as a masked array version of the second."
   ]
  },
  {
   "cell_type": "code",
   "execution_count": 51,
   "metadata": {},
   "outputs": [],
   "source": [
    "x = rng.standard_normal((1000000,))\n",
    "xnan = x.copy()\n",
    "xnan[x < 0] = np.nan\n",
    "xma = np.ma.masked_invalid(xnan)"
   ]
  },
  {
   "cell_type": "markdown",
   "metadata": {},
   "source": [
    "The `.mean()` and `.std()` methods work on the ndarray with no bad values\n",
    "and on the masked array with or without bad values, assuming that what we\n",
    "want is the mean of the good values, ignoring the bad. "
   ]
  },
  {
   "cell_type": "code",
   "execution_count": 54,
   "metadata": {},
   "outputs": [
    {
     "name": "stdout",
     "output_type": "stream",
     "text": [
      "0.0014130246813656977 nan 0.7965261413544447\n",
      "0.0014130246813656977 0.7965261413544447\n"
     ]
    }
   ],
   "source": [
    "print(x.mean(), xnan.mean(), xma.mean())\n",
    "print(np.nanmean(x), np.nanmean(xnan))"
   ]
  },
  {
   "cell_type": "markdown",
   "metadata": {},
   "source": [
    "To get the mean of the non-nan elements we need a function."
   ]
  },
  {
   "cell_type": "code",
   "execution_count": null,
   "metadata": {},
   "outputs": [],
   "source": [
    "print(np.nanmean(xnan))"
   ]
  },
  {
   "cell_type": "markdown",
   "metadata": {},
   "source": [
    "Compare the speeds:"
   ]
  },
  {
   "cell_type": "code",
   "execution_count": 55,
   "metadata": {},
   "outputs": [
    {
     "name": "stdout",
     "output_type": "stream",
     "text": [
      "7.57 ms ± 75.8 µs per loop (mean ± std. dev. of 7 runs, 100 loops each)\n"
     ]
    }
   ],
   "source": [
    "%timeit xma.mean()"
   ]
  },
  {
   "cell_type": "code",
   "execution_count": 56,
   "metadata": {},
   "outputs": [
    {
     "name": "stdout",
     "output_type": "stream",
     "text": [
      "8.12 ms ± 28.8 µs per loop (mean ± std. dev. of 7 runs, 100 loops each)\n"
     ]
    }
   ],
   "source": [
    "%timeit np.nanmean(xnan)"
   ]
  },
  {
   "cell_type": "code",
   "execution_count": 57,
   "metadata": {},
   "outputs": [
    {
     "name": "stdout",
     "output_type": "stream",
     "text": [
      "349 µs ± 10.9 µs per loop (mean ± std. dev. of 7 runs, 1000 loops each)\n"
     ]
    }
   ],
   "source": [
    "%timeit x.mean()"
   ]
  },
  {
   "cell_type": "markdown",
   "metadata": {},
   "source": [
    "Here we see that handling missing values is costly regardless of whether\n",
    "it is done via the masked array method or the `nanmean` function."
   ]
  },
  {
   "cell_type": "markdown",
   "metadata": {},
   "source": [
    "What about the equivalent ways of extracting mask arrays?"
   ]
  },
  {
   "cell_type": "code",
   "execution_count": 58,
   "metadata": {},
   "outputs": [
    {
     "name": "stdout",
     "output_type": "stream",
     "text": [
      "385 µs ± 30.4 µs per loop (mean ± std. dev. of 7 runs, 1000 loops each)\n"
     ]
    }
   ],
   "source": [
    "%timeit np.isnan(xnan)"
   ]
  },
  {
   "cell_type": "code",
   "execution_count": 59,
   "metadata": {},
   "outputs": [
    {
     "name": "stdout",
     "output_type": "stream",
     "text": [
      "278 ns ± 0.381 ns per loop (mean ± std. dev. of 7 runs, 1000000 loops each)\n"
     ]
    }
   ],
   "source": [
    "%timeit np.ma.getmaskarray(xma)"
   ]
  },
  {
   "cell_type": "markdown",
   "metadata": {},
   "source": [
    "Very similar."
   ]
  },
  {
   "cell_type": "markdown",
   "metadata": {},
   "source": [
    "The special case where all values are nan or masked (or all values\n",
    "along an axis of a multidimensional array when using the `axis`\n",
    "kwarg) is another instance where using nans generates a warning\n",
    "that is probably just a nuisance."
   ]
  },
  {
   "cell_type": "code",
   "execution_count": 60,
   "metadata": {},
   "outputs": [
    {
     "name": "stderr",
     "output_type": "stream",
     "text": [
      "<ipython-input-60-6e42842974e1>:1: RuntimeWarning: Mean of empty slice\n",
      "  np.nanmean([np.nan, np.nan])\n"
     ]
    },
    {
     "data": {
      "text/plain": [
       "nan"
      ]
     },
     "execution_count": 60,
     "metadata": {},
     "output_type": "execute_result"
    }
   ],
   "source": [
    "np.nanmean([np.nan, np.nan])"
   ]
  },
  {
   "cell_type": "code",
   "execution_count": 61,
   "metadata": {},
   "outputs": [
    {
     "data": {
      "text/plain": [
       "masked"
      ]
     },
     "execution_count": 61,
     "metadata": {},
     "output_type": "execute_result"
    }
   ],
   "source": [
    "np.ma.masked_invalid([np.nan, np.nan]).mean()"
   ]
  }
 ],
 "metadata": {
  "kernelspec": {
   "display_name": "Python 3",
   "language": "python",
   "name": "python3"
  },
  "language_info": {
   "codemirror_mode": {
    "name": "ipython",
    "version": 3
   },
   "file_extension": ".py",
   "mimetype": "text/x-python",
   "name": "python",
   "nbconvert_exporter": "python",
   "pygments_lexer": "ipython3",
   "version": "3.8.6"
  }
 },
 "nbformat": 4,
 "nbformat_minor": 1
}
