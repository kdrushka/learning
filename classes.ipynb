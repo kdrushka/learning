{
 "cells": [
  {
   "cell_type": "markdown",
   "metadata": {},
   "source": [
    "# Classes"
   ]
  },
  {
   "cell_type": "markdown",
   "metadata": {},
   "source": [
    "A *class* is a named conglomoration of information and/or functions---that is, of other Python objects. We can define a class; we can use a class directly; and we can create any number of *instances* of a given class, and use them just as we would any other Python object (which is itself a class or an instance of a class).\n",
    "\n",
    "Classes are something like modules.  Remember, a module is a file with Python code in it.  (More correctly, the module is the object resulting from importing the file.)  That code can provide information, and it can include functions that know about, and work with, that information.  The same is true of a class; but classes are more flexible, because they, and their instances, can be defined and modified as a program is executed, and there can be any number of classes defined in a given module.  More importantly, there is only one copy of a given module, with its associated data, in use in a program at a given time; but there can be many *different* instances of a given class, each with its own specific information.\n",
    "\n",
    "Modules and classes (and packages, for that matter) implement Python's \"divide and conquer\" approach to keeping programs writable, readable, and maintainable as the problems they address become increasingly complex.  They break information and functionality down into independent, testable, documentable, resuable chunks, with well-defined inputs and outputs to connect the chunks.\n",
    "\n",
    "Enough verbiage; let's make our own classes."
   ]
  },
  {
   "cell_type": "code",
   "execution_count": 5,
   "metadata": {},
   "outputs": [
    {
     "name": "stdout",
     "output_type": "stream",
     "text": [
      "c1 is an instance of <class '__main__.Attribute_holder'>\n",
      "this is a test\n",
      "50\n",
      "250\n",
      "c1.y is 20 but c2.y is 50\n",
      "<class 'int'>\n"
     ]
    }
   ],
   "source": [
    "# define the class:\n",
    "class Attribute_holder(object):\n",
    "    pass\n",
    "\n",
    "# Make a couple of instances of it, and give each\n",
    "# one some attributes to hold:\n",
    "c1 = Attribute_holder()\n",
    "c1.some_attribute = \"this is a test\"\n",
    "c1.some_other_attribute = 5\n",
    "c1.y = 20\n",
    "\n",
    "c2 = Attribute_holder()\n",
    "c2.x = \"the x attribute of this Attribute_holder instance\"\n",
    "c2.y = 50\n",
    "\n",
    "print(\"c1 is an instance of\", type(c1))\n",
    "print(c1.some_attribute)\n",
    "print(c2.y)\n",
    "print(c1.some_other_attribute * c2.y)\n",
    "print(\"c1.y is %d but c2.y is %d\" % (c1.y, c2.y))\n",
    "\n",
    "print(type(c2.y))"
   ]
  },
  {
   "cell_type": "markdown",
   "metadata": {},
   "source": [
    "Above we have an example of the simplest possible type of custom class, a container that is initially empty.  We can make instances of it, and we can assign attributes to those instances.  An *attribute* is simply an object in a class or instance that can be accessed using the \"dot\" syntax, as shown above.\n",
    "\n",
    "Although it is not mandatory, it is advisable to define any class as *inheriting* from some pre-existing class.  In the example above, we are inheriting from the general Python `object` type--use this if you don't need specific behavior from some more specialized class.  (The terms \"class\" and \"type\" are now nearly synonymous in Python from a practical standpoint. \"Type\" is the proper term for built-in types such as the object, the list, and the dictionary.  \"Class\" usually refers to a user-customized type.  In the example above, we are customizing the `object` type--trivially, by copying it with a new name.)"
   ]
  },
  {
   "cell_type": "markdown",
   "metadata": {},
   "source": [
    "Normally, a class definition includes one or more *method* definitions.  A method is a function defined within a class, with one special characteristic: **when the method is called, the instance to which the method belongs is prepended to its argument list.**  It is easier to see how this works with an example than with a description, so here is a minimal illustration:"
   ]
  },
  {
   "cell_type": "code",
   "execution_count": 12,
   "metadata": {},
   "outputs": [
    {
     "name": "stdout",
     "output_type": "stream",
     "text": [
      "<__main__.Demo_of_method object at 0x7f5ab42c99a0>\n",
      "<__main__.Demo_of_method object at 0x7f5ab42c92b0>\n",
      "True\n"
     ]
    }
   ],
   "source": [
    "class Demo_of_method(object):\n",
    "    def return_self(self):\n",
    "        return self\n",
    "\n",
    "# make an instance:    \n",
    "x = Demo_of_method()\n",
    "print(x.return_self())\n",
    "print(Demo_of_method())\n",
    "# verify that return_self is returning the instance itself:\n",
    "print(x.return_self() is x)"
   ]
  },
  {
   "cell_type": "markdown",
   "metadata": {},
   "source": [
    "In the example above, notice that: \n",
    "\n",
    "- To make an instance of the class, we called the class itself (with parentheses).\n",
    "- To call the method, we used the dot syntax, and an empty argument list (in parentheses).\n",
    "- Even though we did not *supply* an argument when we called the method, the method *got* its `self` argument.\n",
    "- The last line of the cell above verifies that the `self` argument *is* the instance."
   ]
  },
  {
   "cell_type": "markdown",
   "metadata": {},
   "source": [
    "Here is another illustration; it is a little bit more realistic because it illustrates how `self` is used within a method to access an attribute of the instance; and how an attribute can be set when the instance is created:"
   ]
  },
  {
   "cell_type": "code",
   "execution_count": 25,
   "metadata": {},
   "outputs": [
    {
     "name": "stdout",
     "output_type": "stream",
     "text": [
      "Variable 'a' is printed via its __str__ method as:\n",
      "   Named_class instance with name Harold\n",
      "My name is Harold\n",
      "My name is Mauoood\n",
      "My name is Harold\n",
      "None\n",
      "My name is asdsa\n"
     ]
    },
    {
     "ename": "AttributeError",
     "evalue": "'Named_demo' object has no attribute 'self'",
     "output_type": "error",
     "traceback": [
      "\u001b[0;31m---------------------------------------------------------------------------\u001b[0m",
      "\u001b[0;31mAttributeError\u001b[0m                            Traceback (most recent call last)",
      "\u001b[0;32m<ipython-input-25-4b468d613cef>\u001b[0m in \u001b[0;36m<module>\u001b[0;34m\u001b[0m\n\u001b[1;32m     24\u001b[0m \u001b[0mggg\u001b[0m\u001b[0;34m.\u001b[0m\u001b[0mname\u001b[0m\u001b[0;34m\u001b[0m\u001b[0;34m\u001b[0m\u001b[0m\n\u001b[1;32m     25\u001b[0m \u001b[0mggg\u001b[0m\u001b[0;34m.\u001b[0m\u001b[0mshow_name\u001b[0m\u001b[0;34m(\u001b[0m\u001b[0;34m)\u001b[0m\u001b[0;34m\u001b[0m\u001b[0;34m\u001b[0m\u001b[0m\n\u001b[0;32m---> 26\u001b[0;31m \u001b[0mggg\u001b[0m\u001b[0;34m.\u001b[0m\u001b[0mself\u001b[0m\u001b[0;34m\u001b[0m\u001b[0;34m\u001b[0m\u001b[0m\n\u001b[0m",
      "\u001b[0;31mAttributeError\u001b[0m: 'Named_demo' object has no attribute 'self'"
     ]
    }
   ],
   "source": [
    "class Named_demo(object):\n",
    "    def __init__(self, name):\n",
    "        self.name = name\n",
    "        # Now \"name\" is an attribute of the instance.\n",
    "        \n",
    "    def __str__(self):\n",
    "        return \"Named_class instance with name \" + self.name\n",
    "        \n",
    "    def show_name(self):\n",
    "        print(\"My name is\", self.name)\n",
    "        \n",
    "a = Named_demo(\"Harold\")\n",
    "b = Named_demo(\"Mauoood\")\n",
    "\n",
    "print(\"Variable 'a' is printed via its __str__ method as:\\n  \", a)\n",
    "\n",
    "a.show_name()\n",
    "b.show_name()\n",
    "\n",
    "\n",
    "print(a.show_name())\n",
    "\n",
    "ggg=Named_demo('asdsa')\n",
    "ggg.name\n",
    "ggg.show_name()\n"
   ]
  },
  {
   "cell_type": "code",
   "execution_count": 33,
   "metadata": {},
   "outputs": [
    {
     "data": {
      "text/plain": [
       "3"
      ]
     },
     "execution_count": 33,
     "metadata": {},
     "output_type": "execute_result"
    }
   ],
   "source": [
    "3**1\n"
   ]
  },
  {
   "cell_type": "markdown",
   "metadata": {},
   "source": [
    "Things to notice:\n",
    "\n",
    "- Method names and attributes that start and end with two underscores are special.\n",
    "\n",
    "  - `__init__` is the method that *creates a new instance* of the class. It is called automatically when the class *name* is called--treated like a function--and it automatically returns the new instance--no explicit `return` statement is needed.        \n",
    "  - `__str__` is the method that is called to make a string representation of the instance when printing, or when calling the built-in `str()` function.\n",
    "\n",
    "In this example, `__init__` takes two arguments: `self`, which is prepended automatically when it is called (just as with any other method), and `name`, which we supply when we create the instance.\n"
   ]
  },
  {
   "cell_type": "markdown",
   "metadata": {},
   "source": [
    "There are other special \"double underscore\" methods.  One of the most useful is `__call__`, which makes\n",
    " an instance of the class behave like a function.  Here is an example:"
   ]
  },
  {
   "cell_type": "code",
   "execution_count": 48,
   "metadata": {},
   "outputs": [
    {
     "name": "stdout",
     "output_type": "stream",
     "text": [
      "The 'hermite2' instance ['-2', '4*x**2']\n",
      "evaluates: -2 + 4*x**2asdasdas\n",
      "[2, -1.0, -2, -1.0, 2]\n",
      "-1.75\n",
      "['1']\n",
      "evaluates: 1asdasdas\n"
     ]
    },
    {
     "data": {
      "text/plain": [
       "1"
      ]
     },
     "execution_count": 48,
     "metadata": {},
     "output_type": "execute_result"
    }
   ],
   "source": [
    "class Polynomial(object):\n",
    "    \"\"\"\n",
    "    Very simple class for evaluating polynomials.\n",
    "    \"\"\"\n",
    "    def __init__(self, *args):\n",
    "        \"\"\"\n",
    "        Arguments are successively higher order coefficients\n",
    "        of the polynomial, starting from zero.\n",
    "        \"\"\"\n",
    "        self.coefs = args        \n",
    "\n",
    "    def __str__(self):\n",
    "        s = []\n",
    "        for i, a in enumerate(self.coefs):\n",
    "            if a == 0:\n",
    "                continue\n",
    "            if i == 0:\n",
    "                s.append(str(a))\n",
    "            elif i == 1:\n",
    "                s.append('%s*x' % (a,))\n",
    "            else:    \n",
    "                s.append('%s*x**%d' % (a, i))\n",
    "        out = 'evaluates: ' + ' + '.join(s) + 'asdasdas'\n",
    "        print(s)\n",
    "        return out\n",
    "                     \n",
    "    def __call__(self, *args):\n",
    "        \"\"\"\n",
    "        Evaluate the polynomial at points given in one or more args.\n",
    "        \n",
    "        With one input, a scalar will be returned; otherwise\n",
    "        a list will be returned.\n",
    "        \"\"\"\n",
    "        out = []\n",
    "        for x in args:\n",
    "            y = 0\n",
    "            for n, coef in enumerate(self.coefs):\n",
    "                y += coef * x ** n\n",
    "            out.append(y)\n",
    "        if len(out) == 1:\n",
    "            return out[0]\n",
    "        return out\n",
    "\n",
    "\n",
    "# Make an instance: a second order Hermite polynomial\n",
    "hermite2 = Polynomial(-2, 0, 4)\n",
    "            # (This called its __init__() method.)\n",
    "\n",
    "print(\"The 'hermite2' instance\", hermite2)  # calls its __str__() method\n",
    "\n",
    "# and evaluate it at multiple points\n",
    "print(hermite2(-1, -0.5, 0, 0.5, 1))\n",
    "\n",
    "# or at a single point.\n",
    "print(hermite2(0.25))\n",
    "p123=Polynomial(1)\n",
    "print(p123)\n",
    "p123(5)"
   ]
  },
  {
   "cell_type": "markdown",
   "metadata": {},
   "source": [
    "Here is another example, in which we will define 3 classes.  This illustrates how attributes and methods can be inherited from its parent by a subclass, or they can be overridden with customized replacements."
   ]
  },
  {
   "cell_type": "code",
   "execution_count": 49,
   "metadata": {},
   "outputs": [],
   "source": [
    "class AddressBase(object):\n",
    "    state = None\n",
    "    # subclass must override this \"state\" attribute\n",
    "    \n",
    "    def __init__(self, name=None, number=\"\", street=\"\", city=\"\"):\n",
    "        if name is None:\n",
    "            raise ValueError(\"name must be specified\")\n",
    "        self.name = name\n",
    "        self.number = number\n",
    "        self.street = street\n",
    "        self.city = city\n",
    "        \n",
    "    def __str__(self):\n",
    "        return \"%s, %s %s, %s %s\" % (self.name, self.number, self.street, \n",
    "                                     self.city, self.state)\n",
    "    \n",
    "    def is_complete(self):\n",
    "        \"\"\"\n",
    "        Return True if the address includes all fields, or False otherwise.\n",
    "        \"\"\"\n",
    "        complete = self.number and self.street and self.city and self.state\n",
    "        return complete"
   ]
  },
  {
   "cell_type": "markdown",
   "metadata": {},
   "source": [
    "Things to notice:\n",
    "\n",
    "- We are starting here with a *base class*; we will define customized subclasses of it below, and will make instances only of those subclasses.\n",
    "- The class definition includes a field--a *class attribute*--that each instance will start out with. (Here, it is the `state` attribute.) It can be overridden in any given instance, or by subclassing, as we will illustrate shortly.\n",
    "- We used the built-in Python `None` object as the default value for the `name` argument, and then used that as a flag to show whether a value for this optional argument was supplied.\n",
    "- Minor formatting note: Within brackets or parentheses of any kind, lines may be split and indented to enhance readability.\n",
    "\n",
    "Now let's subclass `AddressBase` by writing a simple class that *inherits* from it."
   ]
  },
  {
   "cell_type": "code",
   "execution_count": 50,
   "metadata": {},
   "outputs": [
    {
     "name": "stdout",
     "output_type": "stream",
     "text": [
      "Sally Sato, 223 Koa St, Wailuku HI\n",
      "Address for Henry Smith is complete\n",
      "Warning: address for Lisa Chun is incomplete\n",
      "Address for Sally Sato is complete\n"
     ]
    }
   ],
   "source": [
    "class HawaiiAddress(AddressBase):\n",
    "    state = \"HI\"\n",
    "    \n",
    "    # Customize the __init__ method to provide a default city.\n",
    "    def __init__(self, name=None, number=\"\", street=\"\", city=\"Honolulu\"):\n",
    "        AddressBase.__init__(self, name=name, number=number, \n",
    "                             street=street, city=city)\n",
    "\n",
    "# That's it--that's all the customization we need here.\n",
    "        \n",
    "# Make a list of HawaiiAddress instances:        \n",
    "addresses = [HawaiiAddress(name=\"Henry Smith\", number=\"417a\", \n",
    "                           street=\"Oak St\"),\n",
    "             HawaiiAddress(\"Lisa Chun\", street=\"Kumu Hula Way\"),\n",
    "             HawaiiAddress(\"Sally Sato\", number=\"223\", street=\"Koa St\", \n",
    "                           city=\"Wailuku\")]\n",
    "                     \n",
    "# We might want to look up an address by name, so make a dictionary:\n",
    "address_dict = dict()\n",
    "for a in addresses:\n",
    "    address_dict[a.name] = a\n",
    "    \n",
    "print(address_dict[\"Sally Sato\"])\n",
    "\n",
    "for a in addresses:\n",
    "    if a.is_complete():\n",
    "        print(\"Address for %s is complete\" % a.name)\n",
    "    else:\n",
    "        print(\"Warning: address for %s is incomplete\" % a.name)"
   ]
  },
  {
   "cell_type": "markdown",
   "metadata": {},
   "source": [
    "Notice that we are inheriting almost everything, and just adding a little customization.\n",
    "\n",
    "Now do the same thing for a different state, but with more customization: an additional method."
   ]
  },
  {
   "cell_type": "code",
   "execution_count": 7,
   "metadata": {},
   "outputs": [
    {
     "name": "stdout",
     "output_type": "stream",
     "text": [
      "Hubert Smith, 417a Walnut St, Los Angeles CA\n",
      "Address for Hubert Smith is complete\n",
      "Lisa Chun,  Google Way, San Francisco CA\n",
      "Warning: address for Lisa Chun is incomplete\n",
      "    It's in Northern California\n",
      "Sally Jones, 223 Brown St, Sacramento CA\n",
      "Address for Sally Jones is complete\n",
      "    It's in Northern California\n"
     ]
    }
   ],
   "source": [
    "class CaliforniaAddress(AddressBase):\n",
    "    state = \"CA\"\n",
    "    \n",
    "    def __init__(self, *args, **kwargs):\n",
    "        # (alternative way of handling args and kwargs)\n",
    "        kwargs.setdefault('city', 'Los Angeles')\n",
    "        AddressBase.__init__(self, *args, **kwargs)\n",
    "    \n",
    "    def is_northern(self):\n",
    "        return self.city in ['San Francisco', 'Sacramento']\n",
    "\n",
    "\n",
    "# list some CA addresses:\n",
    "addresses = [CaliforniaAddress(name=\"Hubert Smith\", number=\"417a\", \n",
    "                               street=\"Walnut St\"),\n",
    "             CaliforniaAddress(\"Lisa Chun\", street=\"Google Way\", \n",
    "                               city='San Francisco'),\n",
    "             CaliforniaAddress(\"Sally Jones\", number=\"223\", \n",
    "                               street=\"Brown St\", city=\"Sacramento\")]    \n",
    "\n",
    "# Test the methods, including the one we added for California\n",
    "for a in addresses:\n",
    "    print(a)\n",
    "    if a.is_complete():\n",
    "        print(\"Address for %s is complete\" % a.name)\n",
    "    else:\n",
    "        print(\"Warning: address for %s is incomplete\" % a.name)\n",
    "    if a.is_northern():\n",
    "        print(\"    It's in Northern California\")"
   ]
  },
  {
   "cell_type": "markdown",
   "metadata": {},
   "source": [
    "That's probably enough introduction to classes.  Now it is time to learn about numpy, so we can work efficiently with arrays of numbers, and about matplotlib, so we can plot them."
   ]
  }
 ],
 "metadata": {
  "anaconda-cloud": {},
  "kernelspec": {
   "display_name": "Python 3",
   "language": "python",
   "name": "python3"
  },
  "language_info": {
   "codemirror_mode": {
    "name": "ipython",
    "version": 3
   },
   "file_extension": ".py",
   "mimetype": "text/x-python",
   "name": "python",
   "nbconvert_exporter": "python",
   "pygments_lexer": "ipython3",
   "version": "3.8.6"
  }
 },
 "nbformat": 4,
 "nbformat_minor": 1
}
