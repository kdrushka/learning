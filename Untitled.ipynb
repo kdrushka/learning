{
 "cells": [
  {
   "cell_type": "code",
   "execution_count": 2,
   "metadata": {},
   "outputs": [
    {
     "name": "stdout",
     "output_type": "stream",
     "text": [
      "Collecting xmitgcm\n",
      "  Using cached xmitgcm-0.5.0-py3-none-any.whl (97 kB)\n",
      "Requirement already satisfied: xarray>=0.10.1 in /home/kdrushka/miniconda3/envs/py37/lib/python3.8/site-packages (from xmitgcm) (0.16.1)\n",
      "Collecting cachetools\n",
      "  Using cached cachetools-4.1.1-py3-none-any.whl (10 kB)\n",
      "Collecting dask>=1.0\n",
      "  Using cached dask-2.30.0-py3-none-any.whl (848 kB)\n",
      "Requirement already satisfied: pyyaml in /home/kdrushka/miniconda3/envs/py37/lib/python3.8/site-packages (from dask>=1.0->xmitgcm) (5.3.1)\n",
      "Requirement already satisfied: numpy>=1.15 in /home/kdrushka/miniconda3/envs/py37/lib/python3.8/site-packages (from xarray>=0.10.1->xmitgcm) (1.19.4)\n",
      "Requirement already satisfied: pandas>=0.25 in /home/kdrushka/miniconda3/envs/py37/lib/python3.8/site-packages (from xarray>=0.10.1->xmitgcm) (1.1.4)\n",
      "Requirement already satisfied: setuptools>=38.4 in /home/kdrushka/miniconda3/envs/py37/lib/python3.8/site-packages (from xarray>=0.10.1->xmitgcm) (49.6.0.post20201009)\n",
      "Requirement already satisfied: python-dateutil>=2.7.3 in /home/kdrushka/miniconda3/envs/py37/lib/python3.8/site-packages (from pandas>=0.25->xarray>=0.10.1->xmitgcm) (2.8.1)\n",
      "Requirement already satisfied: pytz>=2017.2 in /home/kdrushka/miniconda3/envs/py37/lib/python3.8/site-packages (from pandas>=0.25->xarray>=0.10.1->xmitgcm) (2020.4)\n",
      "Requirement already satisfied: numpy>=1.15 in /home/kdrushka/miniconda3/envs/py37/lib/python3.8/site-packages (from xarray>=0.10.1->xmitgcm) (1.19.4)\n",
      "Requirement already satisfied: six>=1.5 in /home/kdrushka/miniconda3/envs/py37/lib/python3.8/site-packages (from python-dateutil>=2.7.3->pandas>=0.25->xarray>=0.10.1->xmitgcm) (1.15.0)\n",
      "Installing collected packages: dask, cachetools, xmitgcm\n",
      "Successfully installed cachetools-4.1.1 dask-2.30.0 xmitgcm-0.5.0\n"
     ]
    }
   ],
   "source": [
    "!pip install xmitgcm"
   ]
  }
 ],
 "metadata": {
  "kernelspec": {
   "display_name": "Python 3",
   "language": "python",
   "name": "python3"
  },
  "language_info": {
   "codemirror_mode": {
    "name": "ipython",
    "version": 3
   },
   "file_extension": ".py",
   "mimetype": "text/x-python",
   "name": "python",
   "nbconvert_exporter": "python",
   "pygments_lexer": "ipython3",
   "version": "3.8.6"
  }
 },
 "nbformat": 4,
 "nbformat_minor": 4
}
