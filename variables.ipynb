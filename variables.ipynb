{
 "cells": [
  {
   "cell_type": "markdown",
   "metadata": {},
   "source": [
    "# Variables, names, and the assignment operation"
   ]
  },
  {
   "cell_type": "markdown",
   "metadata": {},
   "source": [
    "One of the most basic aspects of computer programming is assigning meaningful names to variables. It is particularly important in Python to remember that a variable name is just that--a **name that refers to some underlying object**."
   ]
  },
  {
   "cell_type": "code",
   "execution_count": 1,
   "metadata": {},
   "outputs": [
    {
     "name": "stdout",
     "output_type": "stream",
     "text": [
      "a is 30.25 and b is 5.5\n"
     ]
    }
   ],
   "source": [
    "a = 5.5  # line 1\n",
    "b = a    # line 2\n",
    "a = a ** 2   # line 3\n",
    "print(\"a is\", a, \"and b is\", b)"
   ]
  },
  {
   "cell_type": "markdown",
   "metadata": {},
   "source": [
    "No surprises here.  You may be wondering whether you are wasting your time with this notebook.  OK, try this:"
   ]
  },
  {
   "cell_type": "code",
   "execution_count": 1,
   "metadata": {},
   "outputs": [
    {
     "name": "stdout",
     "output_type": "stream",
     "text": [
      "[5.5]\n",
      "[5.5]\n",
      "30.25\n",
      "a is [30.25] and b is [30.25]\n"
     ]
    }
   ],
   "source": [
    "# let 'a' be a 1-element list\n",
    "a = [5.5]          # line 4\n",
    "print(a)\n",
    "b = a              # line 5\n",
    "print(b)\n",
    "print(a[0]**2)\n",
    "a[0] = a[0] ** 2   # line 6\n",
    "print(\"a is\", a, \"and b is\", b)"
   ]
  },
  {
   "cell_type": "markdown",
   "metadata": {},
   "source": [
    "Why did `b` change this time when we made a change to `a`?\n",
    "\n",
    "In the first case, in line 1 we are saying `a` is a name for an *immutable* object, the floating point number with the value 5.5.  In line 2, we assign `b` as *another* name for that *same* object.  Next, in line 3 we make a *new* object, 5.5 squared, and re-assign the name  `a` to *this new* object.  But `b` still refers to the 5.5 object.\n",
    "\n",
    "In the second case, in line 4 we are saying `a` is a name for a particular *list* object, which is *mutable*--its contents (the number 5.5) can be changed.  In line 5, `b` is also a name for that *same* object.  Now, in line 6, using the name `a`, we change the contents of the list.  `a` and `b` are still names for the original list; we never made a new list, so any change to its contents can be seen or made via either of the two names, `a` or `b`.\n",
    "\n",
    "The lesson is this: with variable assignment, you need to pay attention to when you are creating a brand-new object, versus when you are merely giving an existing object another name.\n",
    "\n",
    "In the second case above, if you wanted `b` to be a *new* list--a *copy* of `a`--you could do it like this:"
   ]
  },
  {
   "cell_type": "code",
   "execution_count": 1,
   "metadata": {},
   "outputs": [
    {
     "name": "stdout",
     "output_type": "stream",
     "text": [
      "a is [30.25] and b is [5.5]\n"
     ]
    }
   ],
   "source": [
    "a = [5.5]\n",
    "b = a[:]  # slicing a list returns a new list\n",
    "a[0] = a[0] ** 2\n",
    "print(\"a is\", a, \"and b is\", b)"
   ]
  },
  {
   "cell_type": "markdown",
   "metadata": {},
   "source": [
    "or like this:"
   ]
  },
  {
   "cell_type": "code",
   "execution_count": 2,
   "metadata": {},
   "outputs": [
    {
     "name": "stdout",
     "output_type": "stream",
     "text": [
      "a is [30.25] and b is [5.5]\n"
     ]
    }
   ],
   "source": [
    "a = [5.5]\n",
    "b = list(a)\n",
    "a[0] = a[0] ** 2\n",
    "print(\"a is\", a, \"and b is\", b)"
   ]
  },
  {
   "cell_type": "markdown",
   "metadata": {},
   "source": [
    "## Combined assignment and arithmetic operators"
   ]
  },
  {
   "cell_type": "markdown",
   "metadata": {},
   "source": [
    "You don't have to use them, but you are likely to see constructs like the following:"
   ]
  },
  {
   "cell_type": "code",
   "execution_count": 3,
   "metadata": {},
   "outputs": [
    {
     "name": "stdout",
     "output_type": "stream",
     "text": [
      "4\n"
     ]
    }
   ],
   "source": [
    "a = 1\n",
    "a += 3\n",
    "print(a)"
   ]
  },
  {
   "cell_type": "code",
   "execution_count": 8,
   "metadata": {},
   "outputs": [
    {
     "name": "stdout",
     "output_type": "stream",
     "text": [
      "256\n"
     ]
    }
   ],
   "source": [
    "a *= 4\n",
    "print(a)"
   ]
  },
  {
   "cell_type": "code",
   "execution_count": 9,
   "metadata": {},
   "outputs": [
    {
     "name": "stdout",
     "output_type": "stream",
     "text": [
      "9\n"
     ]
    }
   ],
   "source": [
    "# The % sign is the modulo division operator:\n",
    "a %= 13\n",
    "print(a)"
   ]
  },
  {
   "cell_type": "markdown",
   "metadata": {},
   "source": [
    "Each of these is just a shorthand, e.g.\n",
    "\n",
    "    a += 3\n",
    "\n",
    "is the same as \n",
    "\n",
    "    a = a + 3\n",
    "\n",
    "and means \"add 3 to the present contents of 'a' and then let 'a' be the name of the resulting object\"."
   ]
  },
  {
   "cell_type": "code",
   "execution_count": 10,
   "metadata": {},
   "outputs": [
    {
     "name": "stdout",
     "output_type": "stream",
     "text": [
      "a is [1, 2, 1, 2, 1, 2] and b is [1, 2, 1, 2, 1, 2]\n"
     ]
    }
   ],
   "source": [
    "a = [1, 2]\n",
    "b = a\n",
    "# multiplying a list by a positive integer replicates its contents:\n",
    "a *= 3\n",
    "print(\"a is\", a, \"and b is\", b)"
   ]
  },
  {
   "cell_type": "markdown",
   "metadata": {},
   "source": [
    "Here, the scalar multiplication operation on the list did not make a new list, it changed the contents of the existing list; and again, 'b' is just another name for that list."
   ]
  },
  {
   "cell_type": "markdown",
   "metadata": {},
   "source": [
    "## Multiple assignment: unpacking"
   ]
  },
  {
   "cell_type": "markdown",
   "metadata": {},
   "source": [
    "Multiple assignments can be made in a single statement, like this:"
   ]
  },
  {
   "cell_type": "code",
   "execution_count": 14,
   "metadata": {},
   "outputs": [
    {
     "name": "stdout",
     "output_type": "stream",
     "text": [
      "1 2 3 4 5 6 (7, 8) ('the', 'end')\n"
     ]
    },
    {
     "data": {
      "text/plain": [
       "3"
      ]
     },
     "execution_count": 14,
     "metadata": {},
     "output_type": "execute_result"
    }
   ],
   "source": [
    "a, b = 1, 2\n",
    "c, d = (3, 4)\n",
    "e, f = [5, 6]\n",
    "g, h = [(7, 8), (\"the\", \"end\")]\n",
    "print(a, b, c, d, e, f, g, h)\n",
    "c"
   ]
  },
  {
   "cell_type": "markdown",
   "metadata": {},
   "source": [
    "Notice how the sequence types on the right are being unpacked.  Of course, this only works if the number of elements on the right matches the number of names on the left.\n",
    "\n",
    "This technique is not often used for ordinary variable assignments like those in the example above, but it is common for handling multiple return values from functions--a topic we will introduce shortly, in another notebook."
   ]
  },
  {
   "cell_type": "markdown",
   "metadata": {},
   "source": [
    "## Identity versus equality"
   ]
  },
  {
   "cell_type": "markdown",
   "metadata": {},
   "source": [
    "Make 3 variables, two of which point to the *same* list, and a third that points to a *copy*.  Then use ``==`` to test for *equality* (same type of object and same contents) and ``is`` to test for *identity* (same object):"
   ]
  },
  {
   "cell_type": "code",
   "execution_count": 16,
   "metadata": {},
   "outputs": [
    {
     "name": "stdout",
     "output_type": "stream",
     "text": [
      "[1, 2, 3]\n",
      "True True True\n"
     ]
    }
   ],
   "source": [
    "a = [1,2,3]\n",
    "b = a\n",
    "c = a[:]\n",
    "print(c)\n",
    "\n",
    "print(a == b, a == c, b == c)"
   ]
  },
  {
   "cell_type": "code",
   "execution_count": 19,
   "metadata": {},
   "outputs": [
    {
     "name": "stdout",
     "output_type": "stream",
     "text": [
      "True False False\n",
      "False\n",
      "True\n"
     ]
    }
   ],
   "source": [
    "print(a is b, a is c, b is c)\n",
    "print(c is a)\n",
    "c = a\n",
    "print(c is a)"
   ]
  },
  {
   "cell_type": "code",
   "execution_count": 20,
   "metadata": {},
   "outputs": [
    {
     "name": "stdout",
     "output_type": "stream",
     "text": [
      "(1, 2, 3)\n",
      "Are  [1, 2, 3] and (1, 2, 3) equal? False\n"
     ]
    }
   ],
   "source": [
    "d = (1,2,3)\n",
    "print(d)\n",
    "print(\"Are \", a, \"and\", d, \"equal?\", a == d)"
   ]
  },
  {
   "cell_type": "markdown",
   "metadata": {},
   "source": [
    "In the last test we see that even if a list and a tuple have the same contents, they are not the same type of object, so they can't be equal."
   ]
  }
 ],
 "metadata": {
  "anaconda-cloud": {},
  "kernelspec": {
   "display_name": "Python 3",
   "language": "python",
   "name": "python3"
  },
  "language_info": {
   "codemirror_mode": {
    "name": "ipython",
    "version": 3
   },
   "file_extension": ".py",
   "mimetype": "text/x-python",
   "name": "python",
   "nbconvert_exporter": "python",
   "pygments_lexer": "ipython3",
   "version": "3.8.6"
  }
 },
 "nbformat": 4,
 "nbformat_minor": 1
}
