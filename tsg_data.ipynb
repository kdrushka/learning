{
 "cells": [
  {
   "cell_type": "code",
   "execution_count": 14,
   "metadata": {},
   "outputs": [
    {
     "ename": "ModuleNotFoundError",
     "evalue": "No module named 'matlab'",
     "output_type": "error",
     "traceback": [
      "\u001b[0;31m---------------------------------------------------------------------------\u001b[0m",
      "\u001b[0;31mModuleNotFoundError\u001b[0m                       Traceback (most recent call last)",
      "\u001b[0;32m<ipython-input-14-ee763dfdd3d1>\u001b[0m in \u001b[0;36m<module>\u001b[0;34m\u001b[0m\n\u001b[1;32m      9\u001b[0m \u001b[0;34m\u001b[0m\u001b[0m\n\u001b[1;32m     10\u001b[0m \u001b[0;32mimport\u001b[0m \u001b[0mscipy\u001b[0m\u001b[0;34m.\u001b[0m\u001b[0mio\u001b[0m \u001b[0;32mas\u001b[0m \u001b[0mspio\u001b[0m\u001b[0;34m\u001b[0m\u001b[0;34m\u001b[0m\u001b[0m\n\u001b[0;32m---> 11\u001b[0;31m \u001b[0;32mimport\u001b[0m \u001b[0mmatlab\u001b[0m\u001b[0;34m.\u001b[0m\u001b[0mengine\u001b[0m\u001b[0;34m\u001b[0m\u001b[0;34m\u001b[0m\u001b[0m\n\u001b[0m",
      "\u001b[0;31mModuleNotFoundError\u001b[0m: No module named 'matlab'"
     ]
    }
   ],
   "source": [
    "%matplotlib inline\n",
    "\n",
    "import numpy as np\n",
    "import matplotlib.pyplot as plt\n",
    "\n",
    "import scipy.stats as ss\n",
    "from scipy import linalg  # numpy linalg plus extras\n",
    "import statsmodels.api as sm\n",
    "\n",
    "import scipy.io as spio\n",
    "import matlab.engine"
   ]
  },
  {
   "cell_type": "code",
   "execution_count": 12,
   "metadata": {},
   "outputs": [
    {
     "name": "stdout",
     "output_type": "stream",
     "text": [
      "/data1/adac/process/adac_tsg_segments_vector.mat\n",
      "{'__header__': b'MATLAB 5.0 MAT-file, Platform: GLNXA64, Created on: Mon Dec 28 17:32:36 2020', '__version__': '1.0', '__globals__': [], 'tsgseg_vector': array([[(array([[733594.26736111, 733594.2712576 , 733594.27509782, ...,\n",
      "        737307.50498681, 737307.50930638,             nan]]), array([[ 2.,  2.,  2., ..., 26., 26., nan]]), array([[-169.13850403, -169.11563116, -169.09277179, ..., -125.13946334,\n",
      "        -125.1442332 ,           nan]]), array([[-14.60849953, -14.61245001, -14.61647491, ...,  44.60753644,\n",
      "         44.5853127 ,          nan]]), array([[        nan,         nan,         nan, ..., 14.17456987,\n",
      "        14.07999992,         nan]]), array([[35.16500092, 35.1504066 , 35.13692358, ..., 32.2518098 ,\n",
      "        32.27000046,         nan]]), array([[  1.,   1.,   1., ..., 332., 332.,  nan]]), array([[44178256.        , 44178257.1225972 , 44178258.23073516, ...,\n",
      "        42719021.18101028, 42719027.40119305,               nan]]), array([[  0. ,   2.5,   5. , ..., 142.5, 145. ,   nan]]), array([[7.40972973, 7.54474751, 7.44592917, ..., 6.72190339, 5.89128008,\n",
      "               nan]]), array([[          nan,           nan,           nan, ..., 1024.03414888,\n",
      "        1024.0676834 ,           nan]]))]],\n",
      "      dtype=[('t', 'O'), ('dataset', 'O'), ('x', 'O'), ('y', 'O'), ('T', 'O'), ('S', 'O'), ('callsign', 'O'), ('iorig', 'O'), ('dist', 'O'), ('speed', 'O'), ('D', 'O')])}\n"
     ]
    }
   ],
   "source": [
    "ddir='/data1/adac/process/'\n",
    "fn='adac_tsg_segments_vector.mat'\n",
    "print(ddir + fn)\n",
    "tsgseg = spio.loadmat(ddir + fn)\n",
    "print(tsgseg)"
   ]
  }
 ],
 "metadata": {
  "kernelspec": {
   "display_name": "Python 3",
   "language": "python",
   "name": "python3"
  },
  "language_info": {
   "codemirror_mode": {
    "name": "ipython",
    "version": 3
   },
   "file_extension": ".py",
   "mimetype": "text/x-python",
   "name": "python",
   "nbconvert_exporter": "python",
   "pygments_lexer": "ipython3",
   "version": "3.8.6"
  }
 },
 "nbformat": 4,
 "nbformat_minor": 4
}
