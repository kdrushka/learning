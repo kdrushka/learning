{
 "cells": [
  {
   "cell_type": "markdown",
   "metadata": {},
   "source": [
    "# Exceptions and tracebacks"
   ]
  },
  {
   "cell_type": "markdown",
   "metadata": {},
   "source": [
    "Error handling and debugging are major aspects of programming.  Python provides the *Exception* base class and a set of built-in derived classes for reporting \"exceptional\" conditions, which might be genuine errors, or simply cases to be handled by an alternative code path.  It also provides syntax for *raising* Exceptions, and for *catching* or *trapping* them so that they can be handled by additional code."
   ]
  },
  {
   "cell_type": "markdown",
   "metadata": {},
   "source": [
    "Note: in this notebook we are deliberately generating errors in the sample code, so you will not be able to use the \"Cell: Run All\" notebook menu option to run the whole notebook at once.  Execution will stop as soon as the first uncaught Exception is raised."
   ]
  },
  {
   "cell_type": "markdown",
   "metadata": {},
   "source": [
    "Let's start with a very simple example of an error that raises an Exception, leading IPython to print a traceback:"
   ]
  },
  {
   "cell_type": "code",
   "execution_count": 1,
   "metadata": {},
   "outputs": [
    {
     "ename": "TypeError",
     "evalue": "unsupported operand type(s) for ** or pow(): 'str' and 'int'",
     "output_type": "error",
     "traceback": [
      "\u001b[0;31m---------------------------------------------------------------------------\u001b[0m",
      "\u001b[0;31mTypeError\u001b[0m                                 Traceback (most recent call last)",
      "\u001b[0;32m<ipython-input-1-52a1af35aa5b>\u001b[0m in \u001b[0;36m<module>\u001b[0;34m\u001b[0m\n\u001b[1;32m      5\u001b[0m     \u001b[0;32mreturn\u001b[0m \u001b[0mout\u001b[0m\u001b[0;34m\u001b[0m\u001b[0;34m\u001b[0m\u001b[0m\n\u001b[1;32m      6\u001b[0m \u001b[0;34m\u001b[0m\u001b[0m\n\u001b[0;32m----> 7\u001b[0;31m \u001b[0mprint\u001b[0m\u001b[0;34m(\u001b[0m\u001b[0msumsq\u001b[0m\u001b[0;34m(\u001b[0m\u001b[0;36m1\u001b[0m\u001b[0;34m,\u001b[0m \u001b[0;36m2\u001b[0m\u001b[0;34m,\u001b[0m \u001b[0;34m\"3\"\u001b[0m\u001b[0;34m)\u001b[0m\u001b[0;34m)\u001b[0m\u001b[0;34m\u001b[0m\u001b[0;34m\u001b[0m\u001b[0m\n\u001b[0m",
      "\u001b[0;32m<ipython-input-1-52a1af35aa5b>\u001b[0m in \u001b[0;36msumsq\u001b[0;34m(*args)\u001b[0m\n\u001b[1;32m      2\u001b[0m     \u001b[0mout\u001b[0m \u001b[0;34m=\u001b[0m \u001b[0;36m0\u001b[0m\u001b[0;34m\u001b[0m\u001b[0;34m\u001b[0m\u001b[0m\n\u001b[1;32m      3\u001b[0m     \u001b[0;32mfor\u001b[0m \u001b[0mx\u001b[0m \u001b[0;32min\u001b[0m \u001b[0margs\u001b[0m\u001b[0;34m:\u001b[0m\u001b[0;34m\u001b[0m\u001b[0;34m\u001b[0m\u001b[0m\n\u001b[0;32m----> 4\u001b[0;31m         \u001b[0mout\u001b[0m \u001b[0;34m=\u001b[0m \u001b[0mout\u001b[0m \u001b[0;34m+\u001b[0m \u001b[0mx\u001b[0m \u001b[0;34m**\u001b[0m \u001b[0;36m2\u001b[0m\u001b[0;34m\u001b[0m\u001b[0;34m\u001b[0m\u001b[0m\n\u001b[0m\u001b[1;32m      5\u001b[0m     \u001b[0;32mreturn\u001b[0m \u001b[0mout\u001b[0m\u001b[0;34m\u001b[0m\u001b[0;34m\u001b[0m\u001b[0m\n\u001b[1;32m      6\u001b[0m \u001b[0;34m\u001b[0m\u001b[0m\n",
      "\u001b[0;31mTypeError\u001b[0m: unsupported operand type(s) for ** or pow(): 'str' and 'int'"
     ]
    }
   ],
   "source": [
    "def sumsq(*args):\n",
    "    out = 0\n",
    "    for x in args:\n",
    "        out = out + x ** 2\n",
    "    return out\n",
    "\n",
    "print(sumsq(1, 2, \"3\"))"
   ]
  },
  {
   "cell_type": "markdown",
   "metadata": {},
   "source": [
    "The erroneous input--a string where a number was needed--caused an Exception to be raised.  An Exception is a particular type of class or an instance of such a class, and a TypeError is one of several built-in sub-classes of Exception.  The error message is called a Traceback because it traces the chain of function calls that led to the Exception.  In this case there are only two steps in the Traceback: first the print statement called the sumsq function, and then the sumsq function tried to perform an arithmetic operation.  Tracebacks are always printed in this order: the innermost function--the one that first ran into trouble--is at the bottom, and above that is whatever called that function, and so forth up to the top.\n",
    "\n",
    "When troubleshooting, one therefore starts from the bottom of the traceback, and works back up the stack, looking for the place where the real error occurred--the place where something needs to be fixed.  In this example, the problem is not that there is something wrong with line `out = out + arg **2`, but that the prior print statement provided an invalid value when calling the sumsq() function.\n",
    "\n",
    "Sometimes it is useful to anticipate such errors and trap them, either to provide a workaround, or to generate a custom error message.  Let's modify the sumsq() function to check its arguments and give a more informative error message:\n"
   ]
  },
  {
   "cell_type": "code",
   "execution_count": 2,
   "metadata": {},
   "outputs": [
    {
     "ename": "ValueError",
     "evalue": "Argument 2 is of type <class 'str'> but should be numeric",
     "output_type": "error",
     "traceback": [
      "\u001b[0;31m---------------------------------------------------------------------------\u001b[0m",
      "\u001b[0;31mTypeError\u001b[0m                                 Traceback (most recent call last)",
      "\u001b[0;32m<ipython-input-2-c371586b596b>\u001b[0m in \u001b[0;36msumsq\u001b[0;34m(*args)\u001b[0m\n\u001b[1;32m      4\u001b[0m         \u001b[0;32mtry\u001b[0m\u001b[0;34m:\u001b[0m\u001b[0;34m\u001b[0m\u001b[0;34m\u001b[0m\u001b[0m\n\u001b[0;32m----> 5\u001b[0;31m             \u001b[0mout\u001b[0m \u001b[0;34m=\u001b[0m \u001b[0mout\u001b[0m \u001b[0;34m+\u001b[0m \u001b[0mx\u001b[0m \u001b[0;34m**\u001b[0m \u001b[0;36m2\u001b[0m\u001b[0;34m\u001b[0m\u001b[0;34m\u001b[0m\u001b[0m\n\u001b[0m\u001b[1;32m      6\u001b[0m         \u001b[0;32mexcept\u001b[0m \u001b[0mTypeError\u001b[0m\u001b[0;34m:\u001b[0m\u001b[0;34m\u001b[0m\u001b[0;34m\u001b[0m\u001b[0m\n",
      "\u001b[0;31mTypeError\u001b[0m: unsupported operand type(s) for ** or pow(): 'str' and 'int'",
      "\nDuring handling of the above exception, another exception occurred:\n",
      "\u001b[0;31mValueError\u001b[0m                                Traceback (most recent call last)",
      "\u001b[0;32m<ipython-input-2-c371586b596b>\u001b[0m in \u001b[0;36m<module>\u001b[0;34m\u001b[0m\n\u001b[1;32m     10\u001b[0m     \u001b[0;32mreturn\u001b[0m \u001b[0mout\u001b[0m\u001b[0;34m\u001b[0m\u001b[0;34m\u001b[0m\u001b[0m\n\u001b[1;32m     11\u001b[0m \u001b[0;34m\u001b[0m\u001b[0m\n\u001b[0;32m---> 12\u001b[0;31m \u001b[0mprint\u001b[0m\u001b[0;34m(\u001b[0m\u001b[0msumsq\u001b[0m\u001b[0;34m(\u001b[0m\u001b[0;36m1\u001b[0m\u001b[0;34m,\u001b[0m \u001b[0;36m2\u001b[0m\u001b[0;34m,\u001b[0m \u001b[0;34m\"3\"\u001b[0m\u001b[0;34m)\u001b[0m\u001b[0;34m)\u001b[0m\u001b[0;34m\u001b[0m\u001b[0;34m\u001b[0m\u001b[0m\n\u001b[0m",
      "\u001b[0;32m<ipython-input-2-c371586b596b>\u001b[0m in \u001b[0;36msumsq\u001b[0;34m(*args)\u001b[0m\n\u001b[1;32m      5\u001b[0m             \u001b[0mout\u001b[0m \u001b[0;34m=\u001b[0m \u001b[0mout\u001b[0m \u001b[0;34m+\u001b[0m \u001b[0mx\u001b[0m \u001b[0;34m**\u001b[0m \u001b[0;36m2\u001b[0m\u001b[0;34m\u001b[0m\u001b[0;34m\u001b[0m\u001b[0m\n\u001b[1;32m      6\u001b[0m         \u001b[0;32mexcept\u001b[0m \u001b[0mTypeError\u001b[0m\u001b[0;34m:\u001b[0m\u001b[0;34m\u001b[0m\u001b[0;34m\u001b[0m\u001b[0m\n\u001b[0;32m----> 7\u001b[0;31m             raise ValueError(\n\u001b[0m\u001b[1;32m      8\u001b[0m                 \u001b[0;34m\"Argument %s is of type %s but should be numeric\"\u001b[0m\u001b[0;34m\u001b[0m\u001b[0;34m\u001b[0m\u001b[0m\n\u001b[1;32m      9\u001b[0m                 % (i, type(x)))\n",
      "\u001b[0;31mValueError\u001b[0m: Argument 2 is of type <class 'str'> but should be numeric"
     ]
    }
   ],
   "source": [
    "def sumsq(*args):\n",
    "    out = 0\n",
    "    for i, x in enumerate(args):\n",
    "        try:\n",
    "            out = out + x ** 2\n",
    "        except TypeError:\n",
    "            raise ValueError(\n",
    "                \"Argument %s is of type %s but should be numeric\" \n",
    "                % (i, type(x)))\n",
    "    return out\n",
    "\n",
    "print(sumsq(1, 2, \"3\"))"
   ]
  },
  {
   "cell_type": "markdown",
   "metadata": {},
   "source": [
    "We still get an error and a traceback, but now the error message is more explicit.  Notice the two new ideas in this example:\n",
    "\n",
    "- Exceptions can be trapped so that alternative code is run when an exception occurs.\n",
    "\n",
    "- Exceptions can be raised by user-written code\n",
    "\n",
    "Instead of raising a new Exception with our own message, let's try to fix the problem and keep going:"
   ]
  },
  {
   "cell_type": "code",
   "execution_count": 4,
   "metadata": {},
   "outputs": [
    {
     "name": "stdout",
     "output_type": "stream",
     "text": [
      "14.0\n"
     ]
    },
    {
     "ename": "NameError",
     "evalue": "name 'colordict' is not defined",
     "output_type": "error",
     "traceback": [
      "\u001b[0;31m---------------------------------------------------------------------------\u001b[0m",
      "\u001b[0;31mNameError\u001b[0m                                 Traceback (most recent call last)",
      "\u001b[0;32m<ipython-input-4-426cb26745ef>\u001b[0m in \u001b[0;36m<module>\u001b[0;34m\u001b[0m\n\u001b[1;32m     10\u001b[0m \u001b[0mprint\u001b[0m\u001b[0;34m(\u001b[0m\u001b[0msumsq\u001b[0m\u001b[0;34m(\u001b[0m\u001b[0;36m1\u001b[0m\u001b[0;34m,\u001b[0m \u001b[0;36m2\u001b[0m\u001b[0;34m,\u001b[0m \u001b[0;34m\"3\"\u001b[0m\u001b[0;34m)\u001b[0m\u001b[0;34m)\u001b[0m\u001b[0;34m\u001b[0m\u001b[0;34m\u001b[0m\u001b[0m\n\u001b[1;32m     11\u001b[0m \u001b[0;34m\u001b[0m\u001b[0m\n\u001b[0;32m---> 12\u001b[0;31m \u001b[0mcolordict\u001b[0m\u001b[0;34m[\u001b[0m\u001b[0mcolor\u001b[0m\u001b[0;34m]\u001b[0m\u001b[0;34m\u001b[0m\u001b[0;34m\u001b[0m\u001b[0m\n\u001b[0m",
      "\u001b[0;31mNameError\u001b[0m: name 'colordict' is not defined"
     ]
    }
   ],
   "source": [
    "def sumsq(*args):\n",
    "    out = 0\n",
    "    for i, x in enumerate(args):\n",
    "        try:\n",
    "            out = out + x ** 2\n",
    "        except TypeError:\n",
    "            out = out + float(x) ** 2\n",
    "    return out\n",
    "\n",
    "print(sumsq(1, 2, \"3\"))\n"
   ]
  },
  {
   "cell_type": "markdown",
   "metadata": {},
   "source": [
    "As usual in this tutorial, the example is contrived, but it illustrates the point that the Exception mechanism can be used to handle inputs flexibly.  \n",
    "\n",
    "Here is another example.  Matplotlib needs to handle several different ways of specifying parameters such as colors, plot aspect ratio, etc.  A color might be specified by a string abbreviation of a name, by a string representation of a number from 0-1 for a grey scale, or by an RGB (red, green, blue) sequence.  Suppose we want a function that takes any one of these and returns the corresponding RGB tuple (in which each of the three elements is in the 0-1 range)."
   ]
  },
  {
   "cell_type": "code",
   "execution_count": 26,
   "metadata": {},
   "outputs": [
    {
     "name": "stdout",
     "output_type": "stream",
     "text": [
      "(0.6, 0.8, 1.0)\n",
      "(0.6, 0.8, 1.0)\n"
     ]
    }
   ],
   "source": [
    "def to_rgb(color):\n",
    "    \"\"\"\n",
    "    Accept any of several color specifications, and return RGB.\n",
    "    \"\"\"\n",
    "    # Use a dictionary so we can look up the RGB tuples\n",
    "    # corresponding to a set of single-letter color abbreviations.\n",
    "    # This could be expanded to include any set of color names.\n",
    "    colordict = dict(r=(1, 0, 0), g=(0, 1, 0), b=(0, 0, 1), \n",
    "                     w=(1, 1, 1), k=(0, 0, 0))\n",
    "    \n",
    "    # First, check for the case of a grey value as a string:\n",
    "    try:\n",
    "        color + '' #  test: is it a string? \n",
    "                    # (Does string concatenation work, or fail?)\n",
    "        # The line below will be executed only if the test above passed.\n",
    "        grey = float(color)\n",
    "    except (TypeError, ValueError):  # not a string, or float() fails\n",
    "        pass\n",
    "    else:\n",
    "        # It looks like a string representation of a grey value.\n",
    "        if grey <= 1 and grey >= 0:\n",
    "            return (grey,) * 3  # r, g, b all the same\n",
    "        else:\n",
    "            raise ValueError(\"Argument \" + str(color) +\n",
    "                             \" appears to be a grey value\" +\n",
    "                             \" but it is not in the 0-1 range.\")\n",
    "    \n",
    "    # Is it a string in our color dictionary?\n",
    "    try:\n",
    "        return colordict[color]\n",
    "    except KeyError:\n",
    "        pass\n",
    "    \n",
    "    # If we got this far, the input argument is not a grey or\n",
    "    # a string in our color dictionary, so see if it is a valid\n",
    "    # RGB tuple:\n",
    "    try:\n",
    "        if len(color) != 3:\n",
    "            raise TypeError\n",
    "        for v in color:\n",
    "            v + 1  # test: is it numeric?\n",
    "                   # if not, this will raise a TypeError\n",
    "    except TypeError:            \n",
    "        raise ValueError(\"Argument \" + str(color) + \n",
    "                         \" is not a string grey value,\" +\n",
    "                         \" known color abbreviation,\" +\n",
    "                         \" or RGB tuple.\")\n",
    "    \n",
    "    # If we got this far, we have 3 numbers, so check the ranges:    \n",
    "    for v in color:\n",
    "        if not (v <= 1 and v >= 0):\n",
    "            raise ValueError(\"Argument \" + str(color) +\n",
    "                             \" has values outside the 0-1 range.\")\n",
    "    return color  # (The input argument is a valid RGB,\n",
    "                  #  so return it as-is.)\n",
    "    \n",
    "\n",
    "\n",
    "# Test by uncommenting the following calls, one at a time:\n",
    "\n",
    "# print(to_rgb(\"0.5\"))  #  grey, e.g., (x,x,x) \n",
    "# print(to_rgb(0.5))  #  not a string, so not accepted\n",
    "\n",
    "# print(to_rgb(\"b\"))   # It's blue in colordict.\n",
    "# print(to_rgb(\"c\"))   # Not in colordict.\n",
    "\n",
    "# print(to_rgb((0.2, 0.4, 0.6)))   # Already RGB, so OK.\n",
    "print(tuple(x/5 for x in (3,4,5)))  # 3 numbers, but not in 0-1 range\n",
    "\n",
    "print(to_rgb(tuple(x/5 for x in (3,4,5))))  # 3 numbers, but not in 0-1 range\n",
    "\n"
   ]
  },
  {
   "cell_type": "markdown",
   "metadata": {},
   "source": [
    "This example illustrates the use of exception handling for flexible argument processing via \"Duck typing\"; instead of directly checking the *type* of a variable, we check to see whether it *behaves* (\"quacks\") like a given type.\n",
    "\n",
    "It also illustrates how trying to make things easy for the user of a function, by accepting any of a variety of inputs and figuring out internally how to deal with what the user has provided (including providing helpful error messages), adds a lot of complexity to the code.  It's always a tradeoff."
   ]
  },
  {
   "cell_type": "markdown",
   "metadata": {},
   "source": [
    "For more about Exceptions, see http://docs.python.org/2/tutorial/errors.html."
   ]
  }
 ],
 "metadata": {
  "anaconda-cloud": {},
  "kernelspec": {
   "display_name": "Python 3",
   "language": "python",
   "name": "python3"
  },
  "language_info": {
   "codemirror_mode": {
    "name": "ipython",
    "version": 3
   },
   "file_extension": ".py",
   "mimetype": "text/x-python",
   "name": "python",
   "nbconvert_exporter": "python",
   "pygments_lexer": "ipython3",
   "version": "3.8.6"
  }
 },
 "nbformat": 4,
 "nbformat_minor": 1
}
